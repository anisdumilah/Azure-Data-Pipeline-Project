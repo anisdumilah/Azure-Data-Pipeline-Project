{
 "cells": [
  {
   "cell_type": "code",
   "execution_count": 0,
   "metadata": {
    "application/vnd.databricks.v1+cell": {
     "cellMetadata": {
      "byteLimit": 2048000,
      "rowLimit": 10000
     },
     "inputWidgets": {},
     "nuid": "589bb597-9e46-47cb-b053-951ed4fd586a",
     "showTitle": false,
     "tableResultSettingsMap": {},
     "title": ""
    }
   },
   "outputs": [
    {
     "output_type": "execute_result",
     "data": {
      "text/plain": [
       "[FileInfo(path='dbfs:/mnt/silver/Customers/', name='Customers/', size=0, modificationTime=1750234337000),\n",
       " FileInfo(path='dbfs:/mnt/silver/OrderItems/', name='OrderItems/', size=0, modificationTime=1750234384000),\n",
       " FileInfo(path='dbfs:/mnt/silver/Orders/', name='Orders/', size=0, modificationTime=1750234372000),\n",
       " FileInfo(path='dbfs:/mnt/silver/Products/', name='Products/', size=0, modificationTime=1750234395000)]"
      ]
     },
     "execution_count": 7,
     "metadata": {},
     "output_type": "execute_result"
    }
   ],
   "source": [
    "dbutils.fs.ls(\"/mnt/silver\")"
   ]
  },
  {
   "cell_type": "code",
   "execution_count": 0,
   "metadata": {
    "application/vnd.databricks.v1+cell": {
     "cellMetadata": {
      "byteLimit": 2048000,
      "rowLimit": 10000
     },
     "inputWidgets": {},
     "nuid": "47ee034f-d47d-40af-aa65-d435520c26cd",
     "showTitle": false,
     "tableResultSettingsMap": {},
     "title": ""
    }
   },
   "outputs": [
    {
     "output_type": "execute_result",
     "data": {
      "text/plain": [
       "[]"
      ]
     },
     "execution_count": 8,
     "metadata": {},
     "output_type": "execute_result"
    }
   ],
   "source": [
    "dbutils.fs.ls(\"/mnt/gold\")"
   ]
  },
  {
   "cell_type": "code",
   "execution_count": 0,
   "metadata": {
    "application/vnd.databricks.v1+cell": {
     "cellMetadata": {
      "byteLimit": 2048000,
      "rowLimit": 10000
     },
     "inputWidgets": {},
     "nuid": "062fa932-bd7a-4212-8027-daaa0af00c39",
     "showTitle": false,
     "tableResultSettingsMap": {},
     "title": ""
    }
   },
   "outputs": [
    {
     "output_type": "display_data",
     "data": {
      "text/html": [
       "<style scoped>\n",
       "  .table-result-container {\n",
       "    max-height: 300px;\n",
       "    overflow: auto;\n",
       "  }\n",
       "  table, th, td {\n",
       "    border: 1px solid black;\n",
       "    border-collapse: collapse;\n",
       "  }\n",
       "  th, td {\n",
       "    padding: 5px;\n",
       "  }\n",
       "  th {\n",
       "    text-align: left;\n",
       "  }\n",
       "</style><div class='table-result-container'><table class='table-result'><thead style='background-color: white'><tr><th>OrderID</th><th>CustomerID</th><th>OrderDate</th><th>TotalAmount</th></tr></thead><tbody><tr><td>1</td><td>1</td><td>2025-05-01</td><td>150.99</td></tr><tr><td>2</td><td>2</td><td>2025-05-03</td><td>250.50</td></tr><tr><td>3</td><td>3</td><td>2025-05-04</td><td>75.00</td></tr><tr><td>4</td><td>4</td><td>2025-05-05</td><td>300.00</td></tr><tr><td>5</td><td>5</td><td>2025-05-06</td><td>89.99</td></tr><tr><td>6</td><td>6</td><td>2025-05-07</td><td>120.00</td></tr><tr><td>7</td><td>7</td><td>2025-05-08</td><td>45.00</td></tr><tr><td>8</td><td>8</td><td>2025-05-09</td><td>250.00</td></tr><tr><td>9</td><td>9</td><td>2025-05-10</td><td>500.00</td></tr><tr><td>10</td><td>10</td><td>2025-05-11</td><td>30.00</td></tr><tr><td>11</td><td>1</td><td>2025-05-12</td><td>70.00</td></tr><tr><td>12</td><td>2</td><td>2025-05-13</td><td>90.00</td></tr><tr><td>13</td><td>3</td><td>2025-05-14</td><td>200.00</td></tr><tr><td>14</td><td>4</td><td>2025-05-15</td><td>300.00</td></tr><tr><td>15</td><td>5</td><td>2025-05-16</td><td>110.00</td></tr></tbody></table></div>"
      ]
     },
     "metadata": {
      "application/vnd.databricks.v1+output": {
       "addedWidgets": {},
       "aggData": [],
       "aggError": "",
       "aggOverflow": false,
       "aggSchema": [],
       "aggSeriesLimitReached": false,
       "aggType": "",
       "arguments": {},
       "columnCustomDisplayInfos": {},
       "data": [
        [
         1,
         1,
         "2025-05-01",
         "150.99"
        ],
        [
         2,
         2,
         "2025-05-03",
         "250.50"
        ],
        [
         3,
         3,
         "2025-05-04",
         "75.00"
        ],
        [
         4,
         4,
         "2025-05-05",
         "300.00"
        ],
        [
         5,
         5,
         "2025-05-06",
         "89.99"
        ],
        [
         6,
         6,
         "2025-05-07",
         "120.00"
        ],
        [
         7,
         7,
         "2025-05-08",
         "45.00"
        ],
        [
         8,
         8,
         "2025-05-09",
         "250.00"
        ],
        [
         9,
         9,
         "2025-05-10",
         "500.00"
        ],
        [
         10,
         10,
         "2025-05-11",
         "30.00"
        ],
        [
         11,
         1,
         "2025-05-12",
         "70.00"
        ],
        [
         12,
         2,
         "2025-05-13",
         "90.00"
        ],
        [
         13,
         3,
         "2025-05-14",
         "200.00"
        ],
        [
         14,
         4,
         "2025-05-15",
         "300.00"
        ],
        [
         15,
         5,
         "2025-05-16",
         "110.00"
        ]
       ],
       "datasetInfos": [],
       "dbfsResultPath": null,
       "isJsonSchema": true,
       "metadata": {},
       "overflow": false,
       "plotOptions": {
        "customPlotOptions": {},
        "displayType": "table",
        "pivotAggregation": null,
        "pivotColumns": null,
        "xColumns": null,
        "yColumns": null
       },
       "removedWidgets": [],
       "schema": [
        {
         "metadata": "{}",
         "name": "OrderID",
         "type": "\"integer\""
        },
        {
         "metadata": "{}",
         "name": "CustomerID",
         "type": "\"integer\""
        },
        {
         "metadata": "{}",
         "name": "OrderDate",
         "type": "\"string\""
        },
        {
         "metadata": "{}",
         "name": "TotalAmount",
         "type": "\"decimal(10,2)\""
        }
       ],
       "type": "table"
      }
     },
     "output_type": "display_data"
    }
   ],
   "source": [
    "df_orders = spark.read.format(\"delta\").load(\"/mnt/silver/Orders\")\n",
    "display(df_orders)"
   ]
  },
  {
   "cell_type": "code",
   "execution_count": 0,
   "metadata": {
    "application/vnd.databricks.v1+cell": {
     "cellMetadata": {
      "byteLimit": 2048000,
      "rowLimit": 10000
     },
     "inputWidgets": {},
     "nuid": "db3a4fea-ec02-4bcf-9b0a-cde97c3bcb9b",
     "showTitle": false,
     "tableResultSettingsMap": {},
     "title": ""
    }
   },
   "outputs": [
    {
     "output_type": "display_data",
     "data": {
      "text/html": [
       "<style scoped>\n",
       "  .table-result-container {\n",
       "    max-height: 300px;\n",
       "    overflow: auto;\n",
       "  }\n",
       "  table, th, td {\n",
       "    border: 1px solid black;\n",
       "    border-collapse: collapse;\n",
       "  }\n",
       "  th, td {\n",
       "    padding: 5px;\n",
       "  }\n",
       "  th {\n",
       "    text-align: left;\n",
       "  }\n",
       "</style><div class='table-result-container'><table class='table-result'><thead style='background-color: white'><tr><th>CustomerID</th><th>FirstName</th><th>LastName</th><th>Email</th><th>CreatedDate</th></tr></thead><tbody><tr><td>1</td><td>John</td><td>Doe</td><td>john.doe@gmail.com</td><td>2025-06-03</td></tr><tr><td>2</td><td>Jane</td><td>Smith</td><td>jane.smith@gmail.com</td><td>2025-06-03</td></tr><tr><td>3</td><td>Michael</td><td>Brown</td><td>michael.brown@gmail.com</td><td>2025-06-03</td></tr><tr><td>4</td><td>Emily</td><td>Davis</td><td>emily.davis@gmail.com</td><td>2025-06-03</td></tr><tr><td>5</td><td>David</td><td>Wilson</td><td>david.wilson@gmail.com</td><td>2025-06-03</td></tr><tr><td>6</td><td>Laura</td><td>Taylor</td><td>laura.taylor@gmail.com</td><td>2025-06-03</td></tr><tr><td>7</td><td>James</td><td>Anderson</td><td>james.anderson@gmail.com</td><td>2025-06-03</td></tr><tr><td>8</td><td>Linda</td><td>Thomas</td><td>linda.thomas@gmail.com</td><td>2025-06-03</td></tr><tr><td>9</td><td>Robert</td><td>Jackson</td><td>robert.jackson@gmail.com</td><td>2025-06-03</td></tr><tr><td>10</td><td>Susan</td><td>White</td><td>susan.white@gmail.com</td><td>2025-06-03</td></tr></tbody></table></div>"
      ]
     },
     "metadata": {
      "application/vnd.databricks.v1+output": {
       "addedWidgets": {},
       "aggData": [],
       "aggError": "",
       "aggOverflow": false,
       "aggSchema": [],
       "aggSeriesLimitReached": false,
       "aggType": "",
       "arguments": {},
       "columnCustomDisplayInfos": {},
       "data": [
        [
         1,
         "John",
         "Doe",
         "john.doe@gmail.com",
         "2025-06-03"
        ],
        [
         2,
         "Jane",
         "Smith",
         "jane.smith@gmail.com",
         "2025-06-03"
        ],
        [
         3,
         "Michael",
         "Brown",
         "michael.brown@gmail.com",
         "2025-06-03"
        ],
        [
         4,
         "Emily",
         "Davis",
         "emily.davis@gmail.com",
         "2025-06-03"
        ],
        [
         5,
         "David",
         "Wilson",
         "david.wilson@gmail.com",
         "2025-06-03"
        ],
        [
         6,
         "Laura",
         "Taylor",
         "laura.taylor@gmail.com",
         "2025-06-03"
        ],
        [
         7,
         "James",
         "Anderson",
         "james.anderson@gmail.com",
         "2025-06-03"
        ],
        [
         8,
         "Linda",
         "Thomas",
         "linda.thomas@gmail.com",
         "2025-06-03"
        ],
        [
         9,
         "Robert",
         "Jackson",
         "robert.jackson@gmail.com",
         "2025-06-03"
        ],
        [
         10,
         "Susan",
         "White",
         "susan.white@gmail.com",
         "2025-06-03"
        ]
       ],
       "datasetInfos": [],
       "dbfsResultPath": null,
       "isJsonSchema": true,
       "metadata": {},
       "overflow": false,
       "plotOptions": {
        "customPlotOptions": {},
        "displayType": "table",
        "pivotAggregation": null,
        "pivotColumns": null,
        "xColumns": null,
        "yColumns": null
       },
       "removedWidgets": [],
       "schema": [
        {
         "metadata": "{}",
         "name": "CustomerID",
         "type": "\"integer\""
        },
        {
         "metadata": "{}",
         "name": "FirstName",
         "type": "\"string\""
        },
        {
         "metadata": "{}",
         "name": "LastName",
         "type": "\"string\""
        },
        {
         "metadata": "{}",
         "name": "Email",
         "type": "\"string\""
        },
        {
         "metadata": "{}",
         "name": "CreatedDate",
         "type": "\"string\""
        }
       ],
       "type": "table"
      }
     },
     "output_type": "display_data"
    }
   ],
   "source": [
    "df_customers = spark.read.format(\"delta\").load(\"/mnt/silver/Customers\")\n",
    "display(df_customers)"
   ]
  },
  {
   "cell_type": "code",
   "execution_count": 0,
   "metadata": {
    "application/vnd.databricks.v1+cell": {
     "cellMetadata": {
      "byteLimit": 2048000,
      "rowLimit": 10000
     },
     "inputWidgets": {},
     "nuid": "35a15f1d-9961-488b-9a5c-b81c9f9424a7",
     "showTitle": false,
     "tableResultSettingsMap": {},
     "title": ""
    }
   },
   "outputs": [
    {
     "output_type": "display_data",
     "data": {
      "text/html": [
       "<style scoped>\n",
       "  .table-result-container {\n",
       "    max-height: 300px;\n",
       "    overflow: auto;\n",
       "  }\n",
       "  table, th, td {\n",
       "    border: 1px solid black;\n",
       "    border-collapse: collapse;\n",
       "  }\n",
       "  th, td {\n",
       "    padding: 5px;\n",
       "  }\n",
       "  th {\n",
       "    text-align: left;\n",
       "  }\n",
       "</style><div class='table-result-container'><table class='table-result'><thead style='background-color: white'><tr><th>OrderItemID</th><th>OrderID</th><th>ProductID</th><th>Quantity</th><th>UnitPrice</th></tr></thead><tbody><tr><td>1</td><td>1</td><td>1</td><td>2</td><td>25.99</td></tr><tr><td>2</td><td>1</td><td>6</td><td>1</td><td>15.00</td></tr><tr><td>3</td><td>2</td><td>9</td><td>1</td><td>250.00</td></tr><tr><td>4</td><td>3</td><td>3</td><td>5</td><td>10.00</td></tr><tr><td>5</td><td>3</td><td>11</td><td>3</td><td>8.99</td></tr><tr><td>6</td><td>4</td><td>5</td><td>1</td><td>199.99</td></tr><tr><td>7</td><td>4</td><td>10</td><td>3</td><td>30.00</td></tr><tr><td>8</td><td>5</td><td>12</td><td>2</td><td>12.00</td></tr><tr><td>9</td><td>6</td><td>7</td><td>1</td><td>150.00</td></tr><tr><td>10</td><td>6</td><td>20</td><td>1</td><td>70.00</td></tr><tr><td>11</td><td>7</td><td>16</td><td>3</td><td>15.00</td></tr><tr><td>12</td><td>8</td><td>9</td><td>1</td><td>250.00</td></tr><tr><td>13</td><td>8</td><td>13</td><td>2</td><td>20.00</td></tr><tr><td>14</td><td>9</td><td>4</td><td>2</td><td>35.00</td></tr><tr><td>15</td><td>9</td><td>15</td><td>2</td><td>120.00</td></tr><tr><td>16</td><td>9</td><td>19</td><td>1</td><td>60.00</td></tr><tr><td>17</td><td>10</td><td>11</td><td>3</td><td>8.99</td></tr><tr><td>18</td><td>11</td><td>1</td><td>1</td><td>25.99</td></tr><tr><td>19</td><td>11</td><td>3</td><td>2</td><td>10.00</td></tr><tr><td>20</td><td>12</td><td>17</td><td>2</td><td>40.00</td></tr><tr><td>21</td><td>12</td><td>18</td><td>1</td><td>90.00</td></tr><tr><td>22</td><td>13</td><td>5</td><td>1</td><td>199.99</td></tr><tr><td>23</td><td>13</td><td>14</td><td>1</td><td>80.00</td></tr><tr><td>24</td><td>14</td><td>6</td><td>5</td><td>15.00</td></tr><tr><td>25</td><td>14</td><td>8</td><td>1</td><td>70.00</td></tr><tr><td>26</td><td>15</td><td>20</td><td>2</td><td>70.00</td></tr><tr><td>27</td><td>15</td><td>2</td><td>3</td><td>45.50</td></tr><tr><td>28</td><td>2</td><td>11</td><td>2</td><td>8.99</td></tr><tr><td>29</td><td>4</td><td>13</td><td>1</td><td>20.00</td></tr><tr><td>30</td><td>7</td><td>19</td><td>1</td><td>60.00</td></tr><tr><td>31</td><td>5</td><td>1</td><td>4</td><td>25.99</td></tr><tr><td>32</td><td>1</td><td>14</td><td>1</td><td>80.00</td></tr><tr><td>33</td><td>10</td><td>7</td><td>1</td><td>150.00</td></tr><tr><td>34</td><td>12</td><td>9</td><td>1</td><td>250.00</td></tr><tr><td>35</td><td>9</td><td>2</td><td>2</td><td>45.50</td></tr><tr><td>36</td><td>3</td><td>18</td><td>1</td><td>90.00</td></tr><tr><td>37</td><td>8</td><td>4</td><td>3</td><td>35.00</td></tr><tr><td>38</td><td>6</td><td>16</td><td>1</td><td>15.00</td></tr><tr><td>39</td><td>13</td><td>12</td><td>1</td><td>12.00</td></tr></tbody></table></div>"
      ]
     },
     "metadata": {
      "application/vnd.databricks.v1+output": {
       "addedWidgets": {},
       "aggData": [],
       "aggError": "",
       "aggOverflow": false,
       "aggSchema": [],
       "aggSeriesLimitReached": false,
       "aggType": "",
       "arguments": {},
       "columnCustomDisplayInfos": {},
       "data": [
        [
         1,
         1,
         1,
         2,
         "25.99"
        ],
        [
         2,
         1,
         6,
         1,
         "15.00"
        ],
        [
         3,
         2,
         9,
         1,
         "250.00"
        ],
        [
         4,
         3,
         3,
         5,
         "10.00"
        ],
        [
         5,
         3,
         11,
         3,
         "8.99"
        ],
        [
         6,
         4,
         5,
         1,
         "199.99"
        ],
        [
         7,
         4,
         10,
         3,
         "30.00"
        ],
        [
         8,
         5,
         12,
         2,
         "12.00"
        ],
        [
         9,
         6,
         7,
         1,
         "150.00"
        ],
        [
         10,
         6,
         20,
         1,
         "70.00"
        ],
        [
         11,
         7,
         16,
         3,
         "15.00"
        ],
        [
         12,
         8,
         9,
         1,
         "250.00"
        ],
        [
         13,
         8,
         13,
         2,
         "20.00"
        ],
        [
         14,
         9,
         4,
         2,
         "35.00"
        ],
        [
         15,
         9,
         15,
         2,
         "120.00"
        ],
        [
         16,
         9,
         19,
         1,
         "60.00"
        ],
        [
         17,
         10,
         11,
         3,
         "8.99"
        ],
        [
         18,
         11,
         1,
         1,
         "25.99"
        ],
        [
         19,
         11,
         3,
         2,
         "10.00"
        ],
        [
         20,
         12,
         17,
         2,
         "40.00"
        ],
        [
         21,
         12,
         18,
         1,
         "90.00"
        ],
        [
         22,
         13,
         5,
         1,
         "199.99"
        ],
        [
         23,
         13,
         14,
         1,
         "80.00"
        ],
        [
         24,
         14,
         6,
         5,
         "15.00"
        ],
        [
         25,
         14,
         8,
         1,
         "70.00"
        ],
        [
         26,
         15,
         20,
         2,
         "70.00"
        ],
        [
         27,
         15,
         2,
         3,
         "45.50"
        ],
        [
         28,
         2,
         11,
         2,
         "8.99"
        ],
        [
         29,
         4,
         13,
         1,
         "20.00"
        ],
        [
         30,
         7,
         19,
         1,
         "60.00"
        ],
        [
         31,
         5,
         1,
         4,
         "25.99"
        ],
        [
         32,
         1,
         14,
         1,
         "80.00"
        ],
        [
         33,
         10,
         7,
         1,
         "150.00"
        ],
        [
         34,
         12,
         9,
         1,
         "250.00"
        ],
        [
         35,
         9,
         2,
         2,
         "45.50"
        ],
        [
         36,
         3,
         18,
         1,
         "90.00"
        ],
        [
         37,
         8,
         4,
         3,
         "35.00"
        ],
        [
         38,
         6,
         16,
         1,
         "15.00"
        ],
        [
         39,
         13,
         12,
         1,
         "12.00"
        ]
       ],
       "datasetInfos": [],
       "dbfsResultPath": null,
       "isJsonSchema": true,
       "metadata": {},
       "overflow": false,
       "plotOptions": {
        "customPlotOptions": {},
        "displayType": "table",
        "pivotAggregation": null,
        "pivotColumns": null,
        "xColumns": null,
        "yColumns": null
       },
       "removedWidgets": [],
       "schema": [
        {
         "metadata": "{}",
         "name": "OrderItemID",
         "type": "\"integer\""
        },
        {
         "metadata": "{}",
         "name": "OrderID",
         "type": "\"integer\""
        },
        {
         "metadata": "{}",
         "name": "ProductID",
         "type": "\"integer\""
        },
        {
         "metadata": "{}",
         "name": "Quantity",
         "type": "\"integer\""
        },
        {
         "metadata": "{}",
         "name": "UnitPrice",
         "type": "\"decimal(10,2)\""
        }
       ],
       "type": "table"
      }
     },
     "output_type": "display_data"
    }
   ],
   "source": [
    "df_orderitems = spark.read.format(\"delta\").load(\"/mnt/silver/OrderItems/\")\n",
    "display(df_orderitems)"
   ]
  },
  {
   "cell_type": "code",
   "execution_count": 0,
   "metadata": {
    "application/vnd.databricks.v1+cell": {
     "cellMetadata": {
      "byteLimit": 2048000,
      "rowLimit": 10000
     },
     "inputWidgets": {},
     "nuid": "8a282b9b-047d-4fba-b75a-bf1f61bacfe6",
     "showTitle": false,
     "tableResultSettingsMap": {},
     "title": ""
    }
   },
   "outputs": [
    {
     "output_type": "display_data",
     "data": {
      "text/html": [
       "<style scoped>\n",
       "  .table-result-container {\n",
       "    max-height: 300px;\n",
       "    overflow: auto;\n",
       "  }\n",
       "  table, th, td {\n",
       "    border: 1px solid black;\n",
       "    border-collapse: collapse;\n",
       "  }\n",
       "  th, td {\n",
       "    padding: 5px;\n",
       "  }\n",
       "  th {\n",
       "    text-align: left;\n",
       "  }\n",
       "</style><div class='table-result-container'><table class='table-result'><thead style='background-color: white'><tr><th>ProductID</th><th>ProductName</th><th>Category</th><th>Price</th><th>Stock</th></tr></thead><tbody><tr><td>1</td><td>Wireless Mouse</td><td>Electronics</td><td>25.99</td><td>100</td></tr><tr><td>2</td><td>Bluetooth Keyboard</td><td>Electronics</td><td>45.50</td><td>150</td></tr><tr><td>3</td><td>USB-C Cable</td><td>Electronics</td><td>10.00</td><td>500</td></tr><tr><td>4</td><td>Laptop Stand</td><td>Accessories</td><td>35.00</td><td>75</td></tr><tr><td>5</td><td>Noise Cancelling Headphones</td><td>Electronics</td><td>199.99</td><td>40</td></tr><tr><td>6</td><td>Smartphone Case</td><td>Accessories</td><td>15.00</td><td>200</td></tr><tr><td>7</td><td>LED Monitor 24 inch</td><td>Electronics</td><td>150.00</td><td>50</td></tr><tr><td>8</td><td>External Hard Drive 1TB</td><td>Electronics</td><td>70.00</td><td>80</td></tr><tr><td>9</td><td>Gaming Chair</td><td>Furniture</td><td>250.00</td><td>20</td></tr><tr><td>10</td><td>Desk Lamp</td><td>Furniture</td><td>30.00</td><td>60</td></tr><tr><td>11</td><td>Coffee Mug</td><td>Kitchen</td><td>8.99</td><td>300</td></tr><tr><td>12</td><td>Water Bottle</td><td>Kitchen</td><td>12.00</td><td>250</td></tr><tr><td>13</td><td>Yoga Mat</td><td>Fitness</td><td>20.00</td><td>100</td></tr><tr><td>14</td><td>Dumbbells Set</td><td>Fitness</td><td>80.00</td><td>35</td></tr><tr><td>15</td><td>Running Shoes</td><td>Fitness</td><td>120.00</td><td>60</td></tr><tr><td>16</td><td>T-shirt</td><td>Clothing</td><td>15.00</td><td>400</td></tr><tr><td>17</td><td>Jeans</td><td>Clothing</td><td>40.00</td><td>150</td></tr><tr><td>18</td><td>Jacket</td><td>Clothing</td><td>90.00</td><td>100</td></tr><tr><td>19</td><td>Backpack</td><td>Accessories</td><td>60.00</td><td>75</td></tr><tr><td>20</td><td>Sunglasses</td><td>Accessories</td><td>70.00</td><td>90</td></tr></tbody></table></div>"
      ]
     },
     "metadata": {
      "application/vnd.databricks.v1+output": {
       "addedWidgets": {},
       "aggData": [],
       "aggError": "",
       "aggOverflow": false,
       "aggSchema": [],
       "aggSeriesLimitReached": false,
       "aggType": "",
       "arguments": {},
       "columnCustomDisplayInfos": {},
       "data": [
        [
         1,
         "Wireless Mouse",
         "Electronics",
         "25.99",
         100
        ],
        [
         2,
         "Bluetooth Keyboard",
         "Electronics",
         "45.50",
         150
        ],
        [
         3,
         "USB-C Cable",
         "Electronics",
         "10.00",
         500
        ],
        [
         4,
         "Laptop Stand",
         "Accessories",
         "35.00",
         75
        ],
        [
         5,
         "Noise Cancelling Headphones",
         "Electronics",
         "199.99",
         40
        ],
        [
         6,
         "Smartphone Case",
         "Accessories",
         "15.00",
         200
        ],
        [
         7,
         "LED Monitor 24 inch",
         "Electronics",
         "150.00",
         50
        ],
        [
         8,
         "External Hard Drive 1TB",
         "Electronics",
         "70.00",
         80
        ],
        [
         9,
         "Gaming Chair",
         "Furniture",
         "250.00",
         20
        ],
        [
         10,
         "Desk Lamp",
         "Furniture",
         "30.00",
         60
        ],
        [
         11,
         "Coffee Mug",
         "Kitchen",
         "8.99",
         300
        ],
        [
         12,
         "Water Bottle",
         "Kitchen",
         "12.00",
         250
        ],
        [
         13,
         "Yoga Mat",
         "Fitness",
         "20.00",
         100
        ],
        [
         14,
         "Dumbbells Set",
         "Fitness",
         "80.00",
         35
        ],
        [
         15,
         "Running Shoes",
         "Fitness",
         "120.00",
         60
        ],
        [
         16,
         "T-shirt",
         "Clothing",
         "15.00",
         400
        ],
        [
         17,
         "Jeans",
         "Clothing",
         "40.00",
         150
        ],
        [
         18,
         "Jacket",
         "Clothing",
         "90.00",
         100
        ],
        [
         19,
         "Backpack",
         "Accessories",
         "60.00",
         75
        ],
        [
         20,
         "Sunglasses",
         "Accessories",
         "70.00",
         90
        ]
       ],
       "datasetInfos": [],
       "dbfsResultPath": null,
       "isJsonSchema": true,
       "metadata": {},
       "overflow": false,
       "plotOptions": {
        "customPlotOptions": {},
        "displayType": "table",
        "pivotAggregation": null,
        "pivotColumns": null,
        "xColumns": null,
        "yColumns": null
       },
       "removedWidgets": [],
       "schema": [
        {
         "metadata": "{}",
         "name": "ProductID",
         "type": "\"integer\""
        },
        {
         "metadata": "{}",
         "name": "ProductName",
         "type": "\"string\""
        },
        {
         "metadata": "{}",
         "name": "Category",
         "type": "\"string\""
        },
        {
         "metadata": "{}",
         "name": "Price",
         "type": "\"decimal(10,2)\""
        },
        {
         "metadata": "{}",
         "name": "Stock",
         "type": "\"integer\""
        }
       ],
       "type": "table"
      }
     },
     "output_type": "display_data"
    }
   ],
   "source": [
    "df_products = spark.read.format(\"delta\").load(\"/mnt/silver/Products\")\n",
    "display(df_products)"
   ]
  },
  {
   "cell_type": "code",
   "execution_count": 0,
   "metadata": {
    "application/vnd.databricks.v1+cell": {
     "cellMetadata": {
      "byteLimit": 2048000,
      "rowLimit": 10000
     },
     "inputWidgets": {},
     "nuid": "389ca567-f61e-4345-8d2e-2783c262a955",
     "showTitle": false,
     "tableResultSettingsMap": {},
     "title": ""
    }
   },
   "outputs": [],
   "source": [
    "#create temporary view for each table\n",
    "df_customers.createOrReplaceTempView(\"df_customers\")\n",
    "df_orders.createOrReplaceTempView(\"df_orders\")\n",
    "df_products.createOrReplaceTempView(\"df_products\")\n",
    "df_orderitems.createOrReplaceTempView(\"df_orderitems\")"
   ]
  },
  {
   "cell_type": "code",
   "execution_count": 0,
   "metadata": {
    "application/vnd.databricks.v1+cell": {
     "cellMetadata": {
      "byteLimit": 2048000,
      "rowLimit": 10000
     },
     "inputWidgets": {},
     "nuid": "13852e6a-4a5f-413d-a079-af512c3aa002",
     "showTitle": false,
     "tableResultSettingsMap": {},
     "title": ""
    }
   },
   "outputs": [
    {
     "output_type": "display_data",
     "data": {
      "text/html": [
       "<style scoped>\n",
       "  .table-result-container {\n",
       "    max-height: 300px;\n",
       "    overflow: auto;\n",
       "  }\n",
       "  table, th, td {\n",
       "    border: 1px solid black;\n",
       "    border-collapse: collapse;\n",
       "  }\n",
       "  th, td {\n",
       "    padding: 5px;\n",
       "  }\n",
       "  th {\n",
       "    text-align: left;\n",
       "  }\n",
       "</style><div class='table-result-container'><table class='table-result'><thead style='background-color: white'><tr><th>CustomerID</th><th>OrderID</th><th>OrderDate</th><th>FirstName</th><th>LastName</th><th>Email</th><th>TotalAmount</th></tr></thead><tbody><tr><td>1</td><td>1</td><td>2025-05-01</td><td>John</td><td>Doe</td><td>john.doe@gmail.com</td><td>150.99</td></tr><tr><td>2</td><td>2</td><td>2025-05-03</td><td>Jane</td><td>Smith</td><td>jane.smith@gmail.com</td><td>250.50</td></tr><tr><td>3</td><td>3</td><td>2025-05-04</td><td>Michael</td><td>Brown</td><td>michael.brown@gmail.com</td><td>75.00</td></tr><tr><td>4</td><td>4</td><td>2025-05-05</td><td>Emily</td><td>Davis</td><td>emily.davis@gmail.com</td><td>300.00</td></tr><tr><td>5</td><td>5</td><td>2025-05-06</td><td>David</td><td>Wilson</td><td>david.wilson@gmail.com</td><td>89.99</td></tr><tr><td>6</td><td>6</td><td>2025-05-07</td><td>Laura</td><td>Taylor</td><td>laura.taylor@gmail.com</td><td>120.00</td></tr><tr><td>7</td><td>7</td><td>2025-05-08</td><td>James</td><td>Anderson</td><td>james.anderson@gmail.com</td><td>45.00</td></tr><tr><td>8</td><td>8</td><td>2025-05-09</td><td>Linda</td><td>Thomas</td><td>linda.thomas@gmail.com</td><td>250.00</td></tr><tr><td>9</td><td>9</td><td>2025-05-10</td><td>Robert</td><td>Jackson</td><td>robert.jackson@gmail.com</td><td>500.00</td></tr><tr><td>10</td><td>10</td><td>2025-05-11</td><td>Susan</td><td>White</td><td>susan.white@gmail.com</td><td>30.00</td></tr><tr><td>1</td><td>11</td><td>2025-05-12</td><td>John</td><td>Doe</td><td>john.doe@gmail.com</td><td>70.00</td></tr><tr><td>2</td><td>12</td><td>2025-05-13</td><td>Jane</td><td>Smith</td><td>jane.smith@gmail.com</td><td>90.00</td></tr><tr><td>3</td><td>13</td><td>2025-05-14</td><td>Michael</td><td>Brown</td><td>michael.brown@gmail.com</td><td>200.00</td></tr><tr><td>4</td><td>14</td><td>2025-05-15</td><td>Emily</td><td>Davis</td><td>emily.davis@gmail.com</td><td>300.00</td></tr><tr><td>5</td><td>15</td><td>2025-05-16</td><td>David</td><td>Wilson</td><td>david.wilson@gmail.com</td><td>110.00</td></tr></tbody></table></div>"
      ]
     },
     "metadata": {
      "application/vnd.databricks.v1+output": {
       "addedWidgets": {},
       "aggData": [],
       "aggError": "",
       "aggOverflow": false,
       "aggSchema": [],
       "aggSeriesLimitReached": false,
       "aggType": "",
       "arguments": {},
       "columnCustomDisplayInfos": {},
       "data": [
        [
         1,
         1,
         "2025-05-01",
         "John",
         "Doe",
         "john.doe@gmail.com",
         "150.99"
        ],
        [
         2,
         2,
         "2025-05-03",
         "Jane",
         "Smith",
         "jane.smith@gmail.com",
         "250.50"
        ],
        [
         3,
         3,
         "2025-05-04",
         "Michael",
         "Brown",
         "michael.brown@gmail.com",
         "75.00"
        ],
        [
         4,
         4,
         "2025-05-05",
         "Emily",
         "Davis",
         "emily.davis@gmail.com",
         "300.00"
        ],
        [
         5,
         5,
         "2025-05-06",
         "David",
         "Wilson",
         "david.wilson@gmail.com",
         "89.99"
        ],
        [
         6,
         6,
         "2025-05-07",
         "Laura",
         "Taylor",
         "laura.taylor@gmail.com",
         "120.00"
        ],
        [
         7,
         7,
         "2025-05-08",
         "James",
         "Anderson",
         "james.anderson@gmail.com",
         "45.00"
        ],
        [
         8,
         8,
         "2025-05-09",
         "Linda",
         "Thomas",
         "linda.thomas@gmail.com",
         "250.00"
        ],
        [
         9,
         9,
         "2025-05-10",
         "Robert",
         "Jackson",
         "robert.jackson@gmail.com",
         "500.00"
        ],
        [
         10,
         10,
         "2025-05-11",
         "Susan",
         "White",
         "susan.white@gmail.com",
         "30.00"
        ],
        [
         1,
         11,
         "2025-05-12",
         "John",
         "Doe",
         "john.doe@gmail.com",
         "70.00"
        ],
        [
         2,
         12,
         "2025-05-13",
         "Jane",
         "Smith",
         "jane.smith@gmail.com",
         "90.00"
        ],
        [
         3,
         13,
         "2025-05-14",
         "Michael",
         "Brown",
         "michael.brown@gmail.com",
         "200.00"
        ],
        [
         4,
         14,
         "2025-05-15",
         "Emily",
         "Davis",
         "emily.davis@gmail.com",
         "300.00"
        ],
        [
         5,
         15,
         "2025-05-16",
         "David",
         "Wilson",
         "david.wilson@gmail.com",
         "110.00"
        ]
       ],
       "datasetInfos": [],
       "dbfsResultPath": null,
       "isJsonSchema": true,
       "metadata": {},
       "overflow": false,
       "plotOptions": {
        "customPlotOptions": {},
        "displayType": "table",
        "pivotAggregation": null,
        "pivotColumns": null,
        "xColumns": null,
        "yColumns": null
       },
       "removedWidgets": [],
       "schema": [
        {
         "metadata": "{}",
         "name": "CustomerID",
         "type": "\"integer\""
        },
        {
         "metadata": "{}",
         "name": "OrderID",
         "type": "\"integer\""
        },
        {
         "metadata": "{}",
         "name": "OrderDate",
         "type": "\"string\""
        },
        {
         "metadata": "{}",
         "name": "FirstName",
         "type": "\"string\""
        },
        {
         "metadata": "{}",
         "name": "LastName",
         "type": "\"string\""
        },
        {
         "metadata": "{}",
         "name": "Email",
         "type": "\"string\""
        },
        {
         "metadata": "{}",
         "name": "TotalAmount",
         "type": "\"decimal(10,2)\""
        }
       ],
       "type": "table"
      }
     },
     "output_type": "display_data"
    }
   ],
   "source": [
    "#Join customers and orders tables\n",
    "\n",
    "df_customers_orders = spark.sql(\"\"\"\n",
    "                                SELECT \n",
    "                                    c.CustomerID,\n",
    "                                    o.OrderID,\n",
    "                                    o.OrderDate,\n",
    "                                    c.FirstName,\n",
    "                                    c.LastName,\n",
    "                                    c.Email,\n",
    "                                    o.TotalAmount\n",
    "                                FROM df_customers as c JOIN df_orders as o ON c.CustomerID = o.CustomerID\n",
    "                                \"\"\")\n",
    "display(df_customers_orders)"
   ]
  },
  {
   "cell_type": "code",
   "execution_count": 0,
   "metadata": {
    "application/vnd.databricks.v1+cell": {
     "cellMetadata": {
      "byteLimit": 2048000,
      "rowLimit": 10000
     },
     "inputWidgets": {},
     "nuid": "d7cbfffb-c158-4935-80d4-31cddd2b707d",
     "showTitle": false,
     "tableResultSettingsMap": {},
     "title": ""
    }
   },
   "outputs": [
    {
     "output_type": "execute_result",
     "data": {
      "text/plain": [
       "['OrderItemID', 'OrderID', 'ProductID', 'Quantity', 'UnitPrice']"
      ]
     },
     "execution_count": 15,
     "metadata": {},
     "output_type": "execute_result"
    }
   ],
   "source": [
    "df_orderitems.columns"
   ]
  },
  {
   "cell_type": "code",
   "execution_count": 0,
   "metadata": {
    "application/vnd.databricks.v1+cell": {
     "cellMetadata": {
      "byteLimit": 2048000,
      "rowLimit": 10000
     },
     "inputWidgets": {},
     "nuid": "563ab6fd-0685-47e5-84c6-f769c9f84e95",
     "showTitle": false,
     "tableResultSettingsMap": {},
     "title": ""
    }
   },
   "outputs": [
    {
     "output_type": "display_data",
     "data": {
      "text/html": [
       "<style scoped>\n",
       "  .table-result-container {\n",
       "    max-height: 300px;\n",
       "    overflow: auto;\n",
       "  }\n",
       "  table, th, td {\n",
       "    border: 1px solid black;\n",
       "    border-collapse: collapse;\n",
       "  }\n",
       "  th, td {\n",
       "    padding: 5px;\n",
       "  }\n",
       "  th {\n",
       "    text-align: left;\n",
       "  }\n",
       "</style><div class='table-result-container'><table class='table-result'><thead style='background-color: white'><tr><th>OrderItemID</th><th>OrderID</th><th>ProductID</th><th>ProductName</th><th>Category</th><th>Quantity</th><th>Price</th></tr></thead><tbody><tr><td>31</td><td>5</td><td>1</td><td>Wireless Mouse</td><td>Electronics</td><td>4</td><td>25.99</td></tr><tr><td>18</td><td>11</td><td>1</td><td>Wireless Mouse</td><td>Electronics</td><td>1</td><td>25.99</td></tr><tr><td>1</td><td>1</td><td>1</td><td>Wireless Mouse</td><td>Electronics</td><td>2</td><td>25.99</td></tr><tr><td>35</td><td>9</td><td>2</td><td>Bluetooth Keyboard</td><td>Electronics</td><td>2</td><td>45.50</td></tr><tr><td>27</td><td>15</td><td>2</td><td>Bluetooth Keyboard</td><td>Electronics</td><td>3</td><td>45.50</td></tr><tr><td>19</td><td>11</td><td>3</td><td>USB-C Cable</td><td>Electronics</td><td>2</td><td>10.00</td></tr><tr><td>4</td><td>3</td><td>3</td><td>USB-C Cable</td><td>Electronics</td><td>5</td><td>10.00</td></tr><tr><td>37</td><td>8</td><td>4</td><td>Laptop Stand</td><td>Accessories</td><td>3</td><td>35.00</td></tr><tr><td>14</td><td>9</td><td>4</td><td>Laptop Stand</td><td>Accessories</td><td>2</td><td>35.00</td></tr><tr><td>22</td><td>13</td><td>5</td><td>Noise Cancelling Headphones</td><td>Electronics</td><td>1</td><td>199.99</td></tr><tr><td>6</td><td>4</td><td>5</td><td>Noise Cancelling Headphones</td><td>Electronics</td><td>1</td><td>199.99</td></tr><tr><td>24</td><td>14</td><td>6</td><td>Smartphone Case</td><td>Accessories</td><td>5</td><td>15.00</td></tr><tr><td>2</td><td>1</td><td>6</td><td>Smartphone Case</td><td>Accessories</td><td>1</td><td>15.00</td></tr><tr><td>33</td><td>10</td><td>7</td><td>LED Monitor 24 inch</td><td>Electronics</td><td>1</td><td>150.00</td></tr><tr><td>9</td><td>6</td><td>7</td><td>LED Monitor 24 inch</td><td>Electronics</td><td>1</td><td>150.00</td></tr><tr><td>25</td><td>14</td><td>8</td><td>External Hard Drive 1TB</td><td>Electronics</td><td>1</td><td>70.00</td></tr><tr><td>34</td><td>12</td><td>9</td><td>Gaming Chair</td><td>Furniture</td><td>1</td><td>250.00</td></tr><tr><td>12</td><td>8</td><td>9</td><td>Gaming Chair</td><td>Furniture</td><td>1</td><td>250.00</td></tr><tr><td>3</td><td>2</td><td>9</td><td>Gaming Chair</td><td>Furniture</td><td>1</td><td>250.00</td></tr><tr><td>7</td><td>4</td><td>10</td><td>Desk Lamp</td><td>Furniture</td><td>3</td><td>30.00</td></tr><tr><td>28</td><td>2</td><td>11</td><td>Coffee Mug</td><td>Kitchen</td><td>2</td><td>8.99</td></tr><tr><td>17</td><td>10</td><td>11</td><td>Coffee Mug</td><td>Kitchen</td><td>3</td><td>8.99</td></tr><tr><td>5</td><td>3</td><td>11</td><td>Coffee Mug</td><td>Kitchen</td><td>3</td><td>8.99</td></tr><tr><td>39</td><td>13</td><td>12</td><td>Water Bottle</td><td>Kitchen</td><td>1</td><td>12.00</td></tr><tr><td>8</td><td>5</td><td>12</td><td>Water Bottle</td><td>Kitchen</td><td>2</td><td>12.00</td></tr><tr><td>29</td><td>4</td><td>13</td><td>Yoga Mat</td><td>Fitness</td><td>1</td><td>20.00</td></tr><tr><td>13</td><td>8</td><td>13</td><td>Yoga Mat</td><td>Fitness</td><td>2</td><td>20.00</td></tr><tr><td>32</td><td>1</td><td>14</td><td>Dumbbells Set</td><td>Fitness</td><td>1</td><td>80.00</td></tr><tr><td>23</td><td>13</td><td>14</td><td>Dumbbells Set</td><td>Fitness</td><td>1</td><td>80.00</td></tr><tr><td>15</td><td>9</td><td>15</td><td>Running Shoes</td><td>Fitness</td><td>2</td><td>120.00</td></tr><tr><td>38</td><td>6</td><td>16</td><td>T-shirt</td><td>Clothing</td><td>1</td><td>15.00</td></tr><tr><td>11</td><td>7</td><td>16</td><td>T-shirt</td><td>Clothing</td><td>3</td><td>15.00</td></tr><tr><td>20</td><td>12</td><td>17</td><td>Jeans</td><td>Clothing</td><td>2</td><td>40.00</td></tr><tr><td>36</td><td>3</td><td>18</td><td>Jacket</td><td>Clothing</td><td>1</td><td>90.00</td></tr><tr><td>21</td><td>12</td><td>18</td><td>Jacket</td><td>Clothing</td><td>1</td><td>90.00</td></tr><tr><td>30</td><td>7</td><td>19</td><td>Backpack</td><td>Accessories</td><td>1</td><td>60.00</td></tr><tr><td>16</td><td>9</td><td>19</td><td>Backpack</td><td>Accessories</td><td>1</td><td>60.00</td></tr><tr><td>26</td><td>15</td><td>20</td><td>Sunglasses</td><td>Accessories</td><td>2</td><td>70.00</td></tr><tr><td>10</td><td>6</td><td>20</td><td>Sunglasses</td><td>Accessories</td><td>1</td><td>70.00</td></tr></tbody></table></div>"
      ]
     },
     "metadata": {
      "application/vnd.databricks.v1+output": {
       "addedWidgets": {},
       "aggData": [],
       "aggError": "",
       "aggOverflow": false,
       "aggSchema": [],
       "aggSeriesLimitReached": false,
       "aggType": "",
       "arguments": {},
       "columnCustomDisplayInfos": {},
       "data": [
        [
         31,
         5,
         1,
         "Wireless Mouse",
         "Electronics",
         4,
         "25.99"
        ],
        [
         18,
         11,
         1,
         "Wireless Mouse",
         "Electronics",
         1,
         "25.99"
        ],
        [
         1,
         1,
         1,
         "Wireless Mouse",
         "Electronics",
         2,
         "25.99"
        ],
        [
         35,
         9,
         2,
         "Bluetooth Keyboard",
         "Electronics",
         2,
         "45.50"
        ],
        [
         27,
         15,
         2,
         "Bluetooth Keyboard",
         "Electronics",
         3,
         "45.50"
        ],
        [
         19,
         11,
         3,
         "USB-C Cable",
         "Electronics",
         2,
         "10.00"
        ],
        [
         4,
         3,
         3,
         "USB-C Cable",
         "Electronics",
         5,
         "10.00"
        ],
        [
         37,
         8,
         4,
         "Laptop Stand",
         "Accessories",
         3,
         "35.00"
        ],
        [
         14,
         9,
         4,
         "Laptop Stand",
         "Accessories",
         2,
         "35.00"
        ],
        [
         22,
         13,
         5,
         "Noise Cancelling Headphones",
         "Electronics",
         1,
         "199.99"
        ],
        [
         6,
         4,
         5,
         "Noise Cancelling Headphones",
         "Electronics",
         1,
         "199.99"
        ],
        [
         24,
         14,
         6,
         "Smartphone Case",
         "Accessories",
         5,
         "15.00"
        ],
        [
         2,
         1,
         6,
         "Smartphone Case",
         "Accessories",
         1,
         "15.00"
        ],
        [
         33,
         10,
         7,
         "LED Monitor 24 inch",
         "Electronics",
         1,
         "150.00"
        ],
        [
         9,
         6,
         7,
         "LED Monitor 24 inch",
         "Electronics",
         1,
         "150.00"
        ],
        [
         25,
         14,
         8,
         "External Hard Drive 1TB",
         "Electronics",
         1,
         "70.00"
        ],
        [
         34,
         12,
         9,
         "Gaming Chair",
         "Furniture",
         1,
         "250.00"
        ],
        [
         12,
         8,
         9,
         "Gaming Chair",
         "Furniture",
         1,
         "250.00"
        ],
        [
         3,
         2,
         9,
         "Gaming Chair",
         "Furniture",
         1,
         "250.00"
        ],
        [
         7,
         4,
         10,
         "Desk Lamp",
         "Furniture",
         3,
         "30.00"
        ],
        [
         28,
         2,
         11,
         "Coffee Mug",
         "Kitchen",
         2,
         "8.99"
        ],
        [
         17,
         10,
         11,
         "Coffee Mug",
         "Kitchen",
         3,
         "8.99"
        ],
        [
         5,
         3,
         11,
         "Coffee Mug",
         "Kitchen",
         3,
         "8.99"
        ],
        [
         39,
         13,
         12,
         "Water Bottle",
         "Kitchen",
         1,
         "12.00"
        ],
        [
         8,
         5,
         12,
         "Water Bottle",
         "Kitchen",
         2,
         "12.00"
        ],
        [
         29,
         4,
         13,
         "Yoga Mat",
         "Fitness",
         1,
         "20.00"
        ],
        [
         13,
         8,
         13,
         "Yoga Mat",
         "Fitness",
         2,
         "20.00"
        ],
        [
         32,
         1,
         14,
         "Dumbbells Set",
         "Fitness",
         1,
         "80.00"
        ],
        [
         23,
         13,
         14,
         "Dumbbells Set",
         "Fitness",
         1,
         "80.00"
        ],
        [
         15,
         9,
         15,
         "Running Shoes",
         "Fitness",
         2,
         "120.00"
        ],
        [
         38,
         6,
         16,
         "T-shirt",
         "Clothing",
         1,
         "15.00"
        ],
        [
         11,
         7,
         16,
         "T-shirt",
         "Clothing",
         3,
         "15.00"
        ],
        [
         20,
         12,
         17,
         "Jeans",
         "Clothing",
         2,
         "40.00"
        ],
        [
         36,
         3,
         18,
         "Jacket",
         "Clothing",
         1,
         "90.00"
        ],
        [
         21,
         12,
         18,
         "Jacket",
         "Clothing",
         1,
         "90.00"
        ],
        [
         30,
         7,
         19,
         "Backpack",
         "Accessories",
         1,
         "60.00"
        ],
        [
         16,
         9,
         19,
         "Backpack",
         "Accessories",
         1,
         "60.00"
        ],
        [
         26,
         15,
         20,
         "Sunglasses",
         "Accessories",
         2,
         "70.00"
        ],
        [
         10,
         6,
         20,
         "Sunglasses",
         "Accessories",
         1,
         "70.00"
        ]
       ],
       "datasetInfos": [],
       "dbfsResultPath": null,
       "isJsonSchema": true,
       "metadata": {},
       "overflow": false,
       "plotOptions": {
        "customPlotOptions": {},
        "displayType": "table",
        "pivotAggregation": null,
        "pivotColumns": null,
        "xColumns": null,
        "yColumns": null
       },
       "removedWidgets": [],
       "schema": [
        {
         "metadata": "{}",
         "name": "OrderItemID",
         "type": "\"integer\""
        },
        {
         "metadata": "{}",
         "name": "OrderID",
         "type": "\"integer\""
        },
        {
         "metadata": "{}",
         "name": "ProductID",
         "type": "\"integer\""
        },
        {
         "metadata": "{}",
         "name": "ProductName",
         "type": "\"string\""
        },
        {
         "metadata": "{}",
         "name": "Category",
         "type": "\"string\""
        },
        {
         "metadata": "{}",
         "name": "Quantity",
         "type": "\"integer\""
        },
        {
         "metadata": "{}",
         "name": "Price",
         "type": "\"decimal(10,2)\""
        }
       ],
       "type": "table"
      }
     },
     "output_type": "display_data"
    }
   ],
   "source": [
    "df_orderitems_products = spark.sql(\"\"\"\n",
    "                                   SELECT\n",
    "                                   oi.OrderItemID,\n",
    "                                   oi.OrderID,\n",
    "                                   p.ProductID,\n",
    "                                   p.ProductName,\n",
    "                                   p.Category,\n",
    "                                   oi.Quantity,\n",
    "                                   p.Price\n",
    "                                   FROM df_orderitems as oi JOIN df_products as p ON oi.ProductID = p.ProductID\n",
    "                                   \"\"\")\n",
    "display(df_orderitems_products)"
   ]
  },
  {
   "cell_type": "code",
   "execution_count": 0,
   "metadata": {
    "application/vnd.databricks.v1+cell": {
     "cellMetadata": {
      "byteLimit": 2048000,
      "rowLimit": 10000
     },
     "inputWidgets": {},
     "nuid": "bf36863c-f277-4f0c-9d73-572f588118e2",
     "showTitle": false,
     "tableResultSettingsMap": {},
     "title": ""
    }
   },
   "outputs": [],
   "source": [
    "# Write to Gold as Delta\n",
    "df_customers_orders.write.format(\"delta\").mode(\"overwrite\").save(\"/mnt/gold/Customers_Orders\")\n",
    "df_orderitems_products.write.format(\"delta\").mode(\"overwrite\").save(\"/mnt/gold/OrdersItems_Products\")"
   ]
  },
  {
   "cell_type": "code",
   "execution_count": 0,
   "metadata": {
    "application/vnd.databricks.v1+cell": {
     "cellMetadata": {
      "byteLimit": 2048000,
      "rowLimit": 10000
     },
     "inputWidgets": {},
     "nuid": "0b5200e8-4ec6-41bf-8e18-04fea4f93840",
     "showTitle": false,
     "tableResultSettingsMap": {},
     "title": ""
    }
   },
   "outputs": [
    {
     "output_type": "display_data",
     "data": {
      "text/html": [
       "<style scoped>\n",
       "  .table-result-container {\n",
       "    max-height: 300px;\n",
       "    overflow: auto;\n",
       "  }\n",
       "  table, th, td {\n",
       "    border: 1px solid black;\n",
       "    border-collapse: collapse;\n",
       "  }\n",
       "  th, td {\n",
       "    padding: 5px;\n",
       "  }\n",
       "  th {\n",
       "    text-align: left;\n",
       "  }\n",
       "</style><div class='table-result-container'><table class='table-result'><thead style='background-color: white'><tr><th>CustomerID</th><th>OrderID</th><th>OrderDate</th><th>FirstName</th><th>LastName</th><th>Email</th><th>TotalAmount</th></tr></thead><tbody><tr><td>1</td><td>1</td><td>2025-05-01</td><td>John</td><td>Doe</td><td>john.doe@gmail.com</td><td>150.99</td></tr><tr><td>2</td><td>2</td><td>2025-05-03</td><td>Jane</td><td>Smith</td><td>jane.smith@gmail.com</td><td>250.50</td></tr><tr><td>3</td><td>3</td><td>2025-05-04</td><td>Michael</td><td>Brown</td><td>michael.brown@gmail.com</td><td>75.00</td></tr><tr><td>4</td><td>4</td><td>2025-05-05</td><td>Emily</td><td>Davis</td><td>emily.davis@gmail.com</td><td>300.00</td></tr><tr><td>5</td><td>5</td><td>2025-05-06</td><td>David</td><td>Wilson</td><td>david.wilson@gmail.com</td><td>89.99</td></tr><tr><td>6</td><td>6</td><td>2025-05-07</td><td>Laura</td><td>Taylor</td><td>laura.taylor@gmail.com</td><td>120.00</td></tr><tr><td>7</td><td>7</td><td>2025-05-08</td><td>James</td><td>Anderson</td><td>james.anderson@gmail.com</td><td>45.00</td></tr><tr><td>8</td><td>8</td><td>2025-05-09</td><td>Linda</td><td>Thomas</td><td>linda.thomas@gmail.com</td><td>250.00</td></tr><tr><td>9</td><td>9</td><td>2025-05-10</td><td>Robert</td><td>Jackson</td><td>robert.jackson@gmail.com</td><td>500.00</td></tr><tr><td>10</td><td>10</td><td>2025-05-11</td><td>Susan</td><td>White</td><td>susan.white@gmail.com</td><td>30.00</td></tr><tr><td>1</td><td>11</td><td>2025-05-12</td><td>John</td><td>Doe</td><td>john.doe@gmail.com</td><td>70.00</td></tr><tr><td>2</td><td>12</td><td>2025-05-13</td><td>Jane</td><td>Smith</td><td>jane.smith@gmail.com</td><td>90.00</td></tr><tr><td>3</td><td>13</td><td>2025-05-14</td><td>Michael</td><td>Brown</td><td>michael.brown@gmail.com</td><td>200.00</td></tr><tr><td>4</td><td>14</td><td>2025-05-15</td><td>Emily</td><td>Davis</td><td>emily.davis@gmail.com</td><td>300.00</td></tr><tr><td>5</td><td>15</td><td>2025-05-16</td><td>David</td><td>Wilson</td><td>david.wilson@gmail.com</td><td>110.00</td></tr></tbody></table></div>"
      ]
     },
     "metadata": {
      "application/vnd.databricks.v1+output": {
       "addedWidgets": {},
       "aggData": [],
       "aggError": "",
       "aggOverflow": false,
       "aggSchema": [],
       "aggSeriesLimitReached": false,
       "aggType": "",
       "arguments": {},
       "columnCustomDisplayInfos": {},
       "data": [
        [
         1,
         1,
         "2025-05-01",
         "John",
         "Doe",
         "john.doe@gmail.com",
         "150.99"
        ],
        [
         2,
         2,
         "2025-05-03",
         "Jane",
         "Smith",
         "jane.smith@gmail.com",
         "250.50"
        ],
        [
         3,
         3,
         "2025-05-04",
         "Michael",
         "Brown",
         "michael.brown@gmail.com",
         "75.00"
        ],
        [
         4,
         4,
         "2025-05-05",
         "Emily",
         "Davis",
         "emily.davis@gmail.com",
         "300.00"
        ],
        [
         5,
         5,
         "2025-05-06",
         "David",
         "Wilson",
         "david.wilson@gmail.com",
         "89.99"
        ],
        [
         6,
         6,
         "2025-05-07",
         "Laura",
         "Taylor",
         "laura.taylor@gmail.com",
         "120.00"
        ],
        [
         7,
         7,
         "2025-05-08",
         "James",
         "Anderson",
         "james.anderson@gmail.com",
         "45.00"
        ],
        [
         8,
         8,
         "2025-05-09",
         "Linda",
         "Thomas",
         "linda.thomas@gmail.com",
         "250.00"
        ],
        [
         9,
         9,
         "2025-05-10",
         "Robert",
         "Jackson",
         "robert.jackson@gmail.com",
         "500.00"
        ],
        [
         10,
         10,
         "2025-05-11",
         "Susan",
         "White",
         "susan.white@gmail.com",
         "30.00"
        ],
        [
         1,
         11,
         "2025-05-12",
         "John",
         "Doe",
         "john.doe@gmail.com",
         "70.00"
        ],
        [
         2,
         12,
         "2025-05-13",
         "Jane",
         "Smith",
         "jane.smith@gmail.com",
         "90.00"
        ],
        [
         3,
         13,
         "2025-05-14",
         "Michael",
         "Brown",
         "michael.brown@gmail.com",
         "200.00"
        ],
        [
         4,
         14,
         "2025-05-15",
         "Emily",
         "Davis",
         "emily.davis@gmail.com",
         "300.00"
        ],
        [
         5,
         15,
         "2025-05-16",
         "David",
         "Wilson",
         "david.wilson@gmail.com",
         "110.00"
        ]
       ],
       "datasetInfos": [],
       "dbfsResultPath": null,
       "isJsonSchema": true,
       "metadata": {},
       "overflow": false,
       "plotOptions": {
        "customPlotOptions": {},
        "displayType": "table",
        "pivotAggregation": null,
        "pivotColumns": null,
        "xColumns": null,
        "yColumns": null
       },
       "removedWidgets": [],
       "schema": [
        {
         "metadata": "{}",
         "name": "CustomerID",
         "type": "\"integer\""
        },
        {
         "metadata": "{}",
         "name": "OrderID",
         "type": "\"integer\""
        },
        {
         "metadata": "{}",
         "name": "OrderDate",
         "type": "\"string\""
        },
        {
         "metadata": "{}",
         "name": "FirstName",
         "type": "\"string\""
        },
        {
         "metadata": "{}",
         "name": "LastName",
         "type": "\"string\""
        },
        {
         "metadata": "{}",
         "name": "Email",
         "type": "\"string\""
        },
        {
         "metadata": "{}",
         "name": "TotalAmount",
         "type": "\"decimal(10,2)\""
        }
       ],
       "type": "table"
      }
     },
     "output_type": "display_data"
    }
   ],
   "source": [
    "display(spark.read.format(\"delta\").load(\"/mnt/gold/Customers_Orders\"))"
   ]
  },
  {
   "cell_type": "markdown",
   "metadata": {
    "application/vnd.databricks.v1+cell": {
     "cellMetadata": {
      "byteLimit": 2048000,
      "rowLimit": 10000
     },
     "inputWidgets": {},
     "nuid": "c253def6-7646-4858-be9d-1ee0e06b8009",
     "showTitle": false,
     "tableResultSettingsMap": {},
     "title": ""
    }
   },
   "source": []
  },
  {
   "cell_type": "code",
   "execution_count": 0,
   "metadata": {
    "application/vnd.databricks.v1+cell": {
     "cellMetadata": {
      "byteLimit": 2048000,
      "rowLimit": 10000
     },
     "inputWidgets": {},
     "nuid": "226529a9-9b0b-485b-ac9b-e2ad97c2338a",
     "showTitle": false,
     "tableResultSettingsMap": {},
     "title": ""
    }
   },
   "outputs": [
    {
     "output_type": "display_data",
     "data": {
      "text/html": [
       "<style scoped>\n",
       "  .table-result-container {\n",
       "    max-height: 300px;\n",
       "    overflow: auto;\n",
       "  }\n",
       "  table, th, td {\n",
       "    border: 1px solid black;\n",
       "    border-collapse: collapse;\n",
       "  }\n",
       "  th, td {\n",
       "    padding: 5px;\n",
       "  }\n",
       "  th {\n",
       "    text-align: left;\n",
       "  }\n",
       "</style><div class='table-result-container'><table class='table-result'><thead style='background-color: white'><tr><th>CustomerID</th><th>TotalOrderAmount</th></tr></thead><tbody><tr><td>1</td><td>220.99</td></tr><tr><td>6</td><td>120.00</td></tr><tr><td>3</td><td>275.00</td></tr><tr><td>5</td><td>199.99</td></tr><tr><td>9</td><td>500.00</td></tr><tr><td>4</td><td>600.00</td></tr><tr><td>8</td><td>250.00</td></tr><tr><td>7</td><td>45.00</td></tr><tr><td>10</td><td>30.00</td></tr><tr><td>2</td><td>340.50</td></tr></tbody></table></div>"
      ]
     },
     "metadata": {
      "application/vnd.databricks.v1+output": {
       "addedWidgets": {},
       "aggData": [],
       "aggError": "",
       "aggOverflow": false,
       "aggSchema": [],
       "aggSeriesLimitReached": false,
       "aggType": "",
       "arguments": {},
       "columnCustomDisplayInfos": {},
       "data": [
        [
         1,
         "220.99"
        ],
        [
         6,
         "120.00"
        ],
        [
         3,
         "275.00"
        ],
        [
         5,
         "199.99"
        ],
        [
         9,
         "500.00"
        ],
        [
         4,
         "600.00"
        ],
        [
         8,
         "250.00"
        ],
        [
         7,
         "45.00"
        ],
        [
         10,
         "30.00"
        ],
        [
         2,
         "340.50"
        ]
       ],
       "datasetInfos": [],
       "dbfsResultPath": null,
       "isJsonSchema": true,
       "metadata": {},
       "overflow": false,
       "plotOptions": {
        "customPlotOptions": {},
        "displayType": "table",
        "pivotAggregation": null,
        "pivotColumns": null,
        "xColumns": null,
        "yColumns": null
       },
       "removedWidgets": [],
       "schema": [
        {
         "metadata": "{}",
         "name": "CustomerID",
         "type": "\"integer\""
        },
        {
         "metadata": "{}",
         "name": "TotalOrderAmount",
         "type": "\"decimal(20,2)\""
        }
       ],
       "type": "table"
      }
     },
     "output_type": "display_data"
    }
   ],
   "source": [
    "from pyspark.sql.functions import *\n",
    "\n",
    "df_orders_total = df_customers_orders.groupBy(\"CustomerID\").agg(sum(\"TotalAmount\").alias(\"TotalOrderAmount\"))\n",
    "display(df_orders_total)"
   ]
  },
  {
   "cell_type": "code",
   "execution_count": 0,
   "metadata": {
    "application/vnd.databricks.v1+cell": {
     "cellMetadata": {
      "byteLimit": 2048000,
      "rowLimit": 10000
     },
     "inputWidgets": {},
     "nuid": "c98c8914-d191-47cb-8172-34cac4556e80",
     "showTitle": false,
     "tableResultSettingsMap": {},
     "title": ""
    }
   },
   "outputs": [],
   "source": [
    "# Write to Gold as Delta\n",
    "df_orders_total.write.format(\"delta\").mode(\"overwrite\").save(\"/mnt/gold/Total_Orders\")"
   ]
  }
 ],
 "metadata": {
  "application/vnd.databricks.v1+notebook": {
   "computePreferences": null,
   "dashboards": [],
   "environmentMetadata": {
    "base_environment": "",
    "environment_version": "2"
   },
   "inputWidgetPreferences": null,
   "language": "python",
   "notebookMetadata": {
    "pythonIndentUnit": 4
   },
   "notebookName": "silver to gold",
   "widgets": {}
  },
  "language_info": {
   "name": "python"
  }
 },
 "nbformat": 4,
 "nbformat_minor": 0
}