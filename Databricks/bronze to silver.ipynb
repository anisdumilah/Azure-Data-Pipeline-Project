{
 "cells": [
  {
   "cell_type": "markdown",
   "metadata": {
    "application/vnd.databricks.v1+cell": {
     "cellMetadata": {
      "byteLimit": 2048000,
      "rowLimit": 10000
     },
     "inputWidgets": {},
     "nuid": "ba58397d-1670-4928-a34c-12a18f1d9cc6",
     "showTitle": false,
     "tableResultSettingsMap": {},
     "title": ""
    }
   },
   "source": [
    "COLUMN TRANSFORMATION"
   ]
  },
  {
   "cell_type": "code",
   "execution_count": 0,
   "metadata": {
    "application/vnd.databricks.v1+cell": {
     "cellMetadata": {
      "byteLimit": 2048000,
      "rowLimit": 10000
     },
     "inputWidgets": {},
     "nuid": "4e75c91d-da68-4598-8b2c-7ff95aad3da4",
     "showTitle": false,
     "tableResultSettingsMap": {},
     "title": ""
    }
   },
   "outputs": [
    {
     "output_type": "display_data",
     "data": {
      "text/html": [
       "<style scoped>\n",
       "  .table-result-container {\n",
       "    max-height: 300px;\n",
       "    overflow: auto;\n",
       "  }\n",
       "  table, th, td {\n",
       "    border: 1px solid black;\n",
       "    border-collapse: collapse;\n",
       "  }\n",
       "  th, td {\n",
       "    padding: 5px;\n",
       "  }\n",
       "  th {\n",
       "    text-align: left;\n",
       "  }\n",
       "</style><div class='table-result-container'><table class='table-result'><thead style='background-color: white'><tr><th>path</th><th>name</th><th>size</th><th>modificationTime</th></tr></thead><tbody><tr><td>dbfs:/mnt/bronze/Customers.parquet</td><td>Customers.parquet</td><td>1510</td><td>1750232356000</td></tr><tr><td>dbfs:/mnt/bronze/OrderItems.parquet</td><td>OrderItems.parquet</td><td>1631</td><td>1750232306000</td></tr><tr><td>dbfs:/mnt/bronze/Orders.parquet</td><td>Orders.parquet</td><td>1072</td><td>1750232307000</td></tr><tr><td>dbfs:/mnt/bronze/Products.parquet</td><td>Products.parquet</td><td>1742</td><td>1750232310000</td></tr></tbody></table></div>"
      ]
     },
     "metadata": {
      "application/vnd.databricks.v1+output": {
       "addedWidgets": {},
       "aggData": [],
       "aggError": "",
       "aggOverflow": false,
       "aggSchema": [],
       "aggSeriesLimitReached": false,
       "aggType": "",
       "arguments": {},
       "columnCustomDisplayInfos": {},
       "data": [
        [
         "dbfs:/mnt/bronze/Customers.parquet",
         "Customers.parquet",
         1510,
         1750232356000
        ],
        [
         "dbfs:/mnt/bronze/OrderItems.parquet",
         "OrderItems.parquet",
         1631,
         1750232306000
        ],
        [
         "dbfs:/mnt/bronze/Orders.parquet",
         "Orders.parquet",
         1072,
         1750232307000
        ],
        [
         "dbfs:/mnt/bronze/Products.parquet",
         "Products.parquet",
         1742,
         1750232310000
        ]
       ],
       "datasetInfos": [],
       "dbfsResultPath": null,
       "isJsonSchema": true,
       "metadata": {},
       "overflow": false,
       "plotOptions": {
        "customPlotOptions": {},
        "displayType": "table",
        "pivotAggregation": null,
        "pivotColumns": null,
        "xColumns": null,
        "yColumns": null
       },
       "removedWidgets": [],
       "schema": [
        {
         "metadata": "{}",
         "name": "path",
         "type": "\"string\""
        },
        {
         "metadata": "{}",
         "name": "name",
         "type": "\"string\""
        },
        {
         "metadata": "{}",
         "name": "size",
         "type": "\"long\""
        },
        {
         "metadata": "{}",
         "name": "modificationTime",
         "type": "\"long\""
        }
       ],
       "type": "table"
      }
     },
     "output_type": "display_data"
    }
   ],
   "source": [
    "display(dbutils.fs.ls(\"mnt/bronze\"))"
   ]
  },
  {
   "cell_type": "code",
   "execution_count": 0,
   "metadata": {
    "application/vnd.databricks.v1+cell": {
     "cellMetadata": {
      "byteLimit": 2048000,
      "rowLimit": 10000
     },
     "inputWidgets": {},
     "nuid": "709e89ba-7f91-4358-9b78-da8059ef60a5",
     "showTitle": false,
     "tableResultSettingsMap": {},
     "title": ""
    }
   },
   "outputs": [
    {
     "output_type": "display_data",
     "data": {
      "text/html": [
       "<style scoped>\n",
       "  .table-result-container {\n",
       "    max-height: 300px;\n",
       "    overflow: auto;\n",
       "  }\n",
       "  table, th, td {\n",
       "    border: 1px solid black;\n",
       "    border-collapse: collapse;\n",
       "  }\n",
       "  th, td {\n",
       "    padding: 5px;\n",
       "  }\n",
       "  th {\n",
       "    text-align: left;\n",
       "  }\n",
       "</style><div class='table-result-container'><table class='table-result'><thead style='background-color: white'><tr><th>CustomerID</th><th>FirstName</th><th>LastName</th><th>Email</th><th>CreatedDate</th></tr></thead><tbody><tr><td>1</td><td>John</td><td>Doe</td><td>john.doe@example.com</td><td>2025-06-03T11:16:50.867Z</td></tr><tr><td>2</td><td>Jane</td><td>Smith</td><td>jane.smith@example.com</td><td>2025-06-03T11:16:50.867Z</td></tr><tr><td>3</td><td>Michael</td><td>Brown</td><td>michael.brown@example.com</td><td>2025-06-03T11:16:50.867Z</td></tr><tr><td>4</td><td>Emily</td><td>Davis</td><td>emily.davis@example.com</td><td>2025-06-03T11:16:50.867Z</td></tr><tr><td>5</td><td>David</td><td>Wilson</td><td>david.wilson@example.com</td><td>2025-06-03T11:16:50.867Z</td></tr><tr><td>6</td><td>Laura</td><td>Taylor</td><td>laura.taylor@example.com</td><td>2025-06-03T11:16:50.867Z</td></tr><tr><td>7</td><td>James</td><td>Anderson</td><td>james.anderson@example.com</td><td>2025-06-03T11:16:50.867Z</td></tr><tr><td>8</td><td>Linda</td><td>Thomas</td><td>linda.thomas@example.com</td><td>2025-06-03T11:16:50.867Z</td></tr><tr><td>9</td><td>Robert</td><td>Jackson</td><td>robert.jackson@example.com</td><td>2025-06-03T11:16:50.867Z</td></tr><tr><td>10</td><td>Susan</td><td>White</td><td>susan.white@example.com</td><td>2025-06-03T11:16:50.867Z</td></tr></tbody></table></div>"
      ]
     },
     "metadata": {
      "application/vnd.databricks.v1+output": {
       "addedWidgets": {},
       "aggData": [],
       "aggError": "",
       "aggOverflow": false,
       "aggSchema": [],
       "aggSeriesLimitReached": false,
       "aggType": "",
       "arguments": {},
       "columnCustomDisplayInfos": {},
       "data": [
        [
         1,
         "John",
         "Doe",
         "john.doe@example.com",
         "2025-06-03T11:16:50.867Z"
        ],
        [
         2,
         "Jane",
         "Smith",
         "jane.smith@example.com",
         "2025-06-03T11:16:50.867Z"
        ],
        [
         3,
         "Michael",
         "Brown",
         "michael.brown@example.com",
         "2025-06-03T11:16:50.867Z"
        ],
        [
         4,
         "Emily",
         "Davis",
         "emily.davis@example.com",
         "2025-06-03T11:16:50.867Z"
        ],
        [
         5,
         "David",
         "Wilson",
         "david.wilson@example.com",
         "2025-06-03T11:16:50.867Z"
        ],
        [
         6,
         "Laura",
         "Taylor",
         "laura.taylor@example.com",
         "2025-06-03T11:16:50.867Z"
        ],
        [
         7,
         "James",
         "Anderson",
         "james.anderson@example.com",
         "2025-06-03T11:16:50.867Z"
        ],
        [
         8,
         "Linda",
         "Thomas",
         "linda.thomas@example.com",
         "2025-06-03T11:16:50.867Z"
        ],
        [
         9,
         "Robert",
         "Jackson",
         "robert.jackson@example.com",
         "2025-06-03T11:16:50.867Z"
        ],
        [
         10,
         "Susan",
         "White",
         "susan.white@example.com",
         "2025-06-03T11:16:50.867Z"
        ]
       ],
       "datasetInfos": [],
       "dbfsResultPath": null,
       "isJsonSchema": true,
       "metadata": {},
       "overflow": false,
       "plotOptions": {
        "customPlotOptions": {},
        "displayType": "table",
        "pivotAggregation": null,
        "pivotColumns": null,
        "xColumns": null,
        "yColumns": null
       },
       "removedWidgets": [],
       "schema": [
        {
         "metadata": "{}",
         "name": "CustomerID",
         "type": "\"integer\""
        },
        {
         "metadata": "{}",
         "name": "FirstName",
         "type": "\"string\""
        },
        {
         "metadata": "{}",
         "name": "LastName",
         "type": "\"string\""
        },
        {
         "metadata": "{}",
         "name": "Email",
         "type": "\"string\""
        },
        {
         "metadata": "{}",
         "name": "CreatedDate",
         "type": "\"timestamp\""
        }
       ],
       "type": "table"
      }
     },
     "output_type": "display_data"
    }
   ],
   "source": [
    "df_customers = spark.read.parquet(\"/mnt/bronze/Customers.parquet\")\n",
    "display(df_customers)"
   ]
  },
  {
   "cell_type": "code",
   "execution_count": 0,
   "metadata": {
    "application/vnd.databricks.v1+cell": {
     "cellMetadata": {
      "byteLimit": 2048000,
      "rowLimit": 10000
     },
     "inputWidgets": {},
     "nuid": "7d974c16-f961-4f5e-983f-7c2ca03c014d",
     "showTitle": false,
     "tableResultSettingsMap": {},
     "title": ""
    }
   },
   "outputs": [
    {
     "output_type": "display_data",
     "data": {
      "text/html": [
       "<style scoped>\n",
       "  .table-result-container {\n",
       "    max-height: 300px;\n",
       "    overflow: auto;\n",
       "  }\n",
       "  table, th, td {\n",
       "    border: 1px solid black;\n",
       "    border-collapse: collapse;\n",
       "  }\n",
       "  th, td {\n",
       "    padding: 5px;\n",
       "  }\n",
       "  th {\n",
       "    text-align: left;\n",
       "  }\n",
       "</style><div class='table-result-container'><table class='table-result'><thead style='background-color: white'><tr><th>OrderItemID</th><th>OrderID</th><th>ProductID</th><th>Quantity</th><th>UnitPrice</th></tr></thead><tbody><tr><td>1</td><td>1</td><td>1</td><td>2</td><td>25.99</td></tr><tr><td>2</td><td>1</td><td>6</td><td>1</td><td>15.00</td></tr><tr><td>3</td><td>2</td><td>9</td><td>1</td><td>250.00</td></tr><tr><td>4</td><td>3</td><td>3</td><td>5</td><td>10.00</td></tr><tr><td>5</td><td>3</td><td>11</td><td>3</td><td>8.99</td></tr><tr><td>6</td><td>4</td><td>5</td><td>1</td><td>199.99</td></tr><tr><td>7</td><td>4</td><td>10</td><td>3</td><td>30.00</td></tr><tr><td>8</td><td>5</td><td>12</td><td>2</td><td>12.00</td></tr><tr><td>9</td><td>6</td><td>7</td><td>1</td><td>150.00</td></tr><tr><td>10</td><td>6</td><td>20</td><td>1</td><td>70.00</td></tr><tr><td>11</td><td>7</td><td>16</td><td>3</td><td>15.00</td></tr><tr><td>12</td><td>8</td><td>9</td><td>1</td><td>250.00</td></tr><tr><td>13</td><td>8</td><td>13</td><td>2</td><td>20.00</td></tr><tr><td>14</td><td>9</td><td>4</td><td>2</td><td>35.00</td></tr><tr><td>15</td><td>9</td><td>15</td><td>2</td><td>120.00</td></tr><tr><td>16</td><td>9</td><td>19</td><td>1</td><td>60.00</td></tr><tr><td>17</td><td>10</td><td>11</td><td>3</td><td>8.99</td></tr><tr><td>18</td><td>11</td><td>1</td><td>1</td><td>25.99</td></tr><tr><td>19</td><td>11</td><td>3</td><td>2</td><td>10.00</td></tr><tr><td>20</td><td>12</td><td>17</td><td>2</td><td>40.00</td></tr><tr><td>21</td><td>12</td><td>18</td><td>1</td><td>90.00</td></tr><tr><td>22</td><td>13</td><td>5</td><td>1</td><td>199.99</td></tr><tr><td>23</td><td>13</td><td>14</td><td>1</td><td>80.00</td></tr><tr><td>24</td><td>14</td><td>6</td><td>5</td><td>15.00</td></tr><tr><td>25</td><td>14</td><td>8</td><td>1</td><td>70.00</td></tr><tr><td>26</td><td>15</td><td>20</td><td>2</td><td>70.00</td></tr><tr><td>27</td><td>15</td><td>2</td><td>3</td><td>45.50</td></tr><tr><td>28</td><td>2</td><td>11</td><td>2</td><td>8.99</td></tr><tr><td>29</td><td>4</td><td>13</td><td>1</td><td>20.00</td></tr><tr><td>30</td><td>7</td><td>19</td><td>1</td><td>60.00</td></tr><tr><td>31</td><td>5</td><td>1</td><td>4</td><td>25.99</td></tr><tr><td>32</td><td>1</td><td>14</td><td>1</td><td>80.00</td></tr><tr><td>33</td><td>10</td><td>7</td><td>1</td><td>150.00</td></tr><tr><td>34</td><td>12</td><td>9</td><td>1</td><td>250.00</td></tr><tr><td>35</td><td>9</td><td>2</td><td>2</td><td>45.50</td></tr><tr><td>36</td><td>3</td><td>18</td><td>1</td><td>90.00</td></tr><tr><td>37</td><td>8</td><td>4</td><td>3</td><td>35.00</td></tr><tr><td>38</td><td>6</td><td>16</td><td>1</td><td>15.00</td></tr><tr><td>39</td><td>13</td><td>12</td><td>1</td><td>12.00</td></tr></tbody></table></div>"
      ]
     },
     "metadata": {
      "application/vnd.databricks.v1+output": {
       "addedWidgets": {},
       "aggData": [],
       "aggError": "",
       "aggOverflow": false,
       "aggSchema": [],
       "aggSeriesLimitReached": false,
       "aggType": "",
       "arguments": {},
       "columnCustomDisplayInfos": {},
       "data": [
        [
         1,
         1,
         1,
         2,
         "25.99"
        ],
        [
         2,
         1,
         6,
         1,
         "15.00"
        ],
        [
         3,
         2,
         9,
         1,
         "250.00"
        ],
        [
         4,
         3,
         3,
         5,
         "10.00"
        ],
        [
         5,
         3,
         11,
         3,
         "8.99"
        ],
        [
         6,
         4,
         5,
         1,
         "199.99"
        ],
        [
         7,
         4,
         10,
         3,
         "30.00"
        ],
        [
         8,
         5,
         12,
         2,
         "12.00"
        ],
        [
         9,
         6,
         7,
         1,
         "150.00"
        ],
        [
         10,
         6,
         20,
         1,
         "70.00"
        ],
        [
         11,
         7,
         16,
         3,
         "15.00"
        ],
        [
         12,
         8,
         9,
         1,
         "250.00"
        ],
        [
         13,
         8,
         13,
         2,
         "20.00"
        ],
        [
         14,
         9,
         4,
         2,
         "35.00"
        ],
        [
         15,
         9,
         15,
         2,
         "120.00"
        ],
        [
         16,
         9,
         19,
         1,
         "60.00"
        ],
        [
         17,
         10,
         11,
         3,
         "8.99"
        ],
        [
         18,
         11,
         1,
         1,
         "25.99"
        ],
        [
         19,
         11,
         3,
         2,
         "10.00"
        ],
        [
         20,
         12,
         17,
         2,
         "40.00"
        ],
        [
         21,
         12,
         18,
         1,
         "90.00"
        ],
        [
         22,
         13,
         5,
         1,
         "199.99"
        ],
        [
         23,
         13,
         14,
         1,
         "80.00"
        ],
        [
         24,
         14,
         6,
         5,
         "15.00"
        ],
        [
         25,
         14,
         8,
         1,
         "70.00"
        ],
        [
         26,
         15,
         20,
         2,
         "70.00"
        ],
        [
         27,
         15,
         2,
         3,
         "45.50"
        ],
        [
         28,
         2,
         11,
         2,
         "8.99"
        ],
        [
         29,
         4,
         13,
         1,
         "20.00"
        ],
        [
         30,
         7,
         19,
         1,
         "60.00"
        ],
        [
         31,
         5,
         1,
         4,
         "25.99"
        ],
        [
         32,
         1,
         14,
         1,
         "80.00"
        ],
        [
         33,
         10,
         7,
         1,
         "150.00"
        ],
        [
         34,
         12,
         9,
         1,
         "250.00"
        ],
        [
         35,
         9,
         2,
         2,
         "45.50"
        ],
        [
         36,
         3,
         18,
         1,
         "90.00"
        ],
        [
         37,
         8,
         4,
         3,
         "35.00"
        ],
        [
         38,
         6,
         16,
         1,
         "15.00"
        ],
        [
         39,
         13,
         12,
         1,
         "12.00"
        ]
       ],
       "datasetInfos": [],
       "dbfsResultPath": null,
       "isJsonSchema": true,
       "metadata": {},
       "overflow": false,
       "plotOptions": {
        "customPlotOptions": {},
        "displayType": "table",
        "pivotAggregation": null,
        "pivotColumns": null,
        "xColumns": null,
        "yColumns": null
       },
       "removedWidgets": [],
       "schema": [
        {
         "metadata": "{}",
         "name": "OrderItemID",
         "type": "\"integer\""
        },
        {
         "metadata": "{}",
         "name": "OrderID",
         "type": "\"integer\""
        },
        {
         "metadata": "{}",
         "name": "ProductID",
         "type": "\"integer\""
        },
        {
         "metadata": "{}",
         "name": "Quantity",
         "type": "\"integer\""
        },
        {
         "metadata": "{}",
         "name": "UnitPrice",
         "type": "\"decimal(10,2)\""
        }
       ],
       "type": "table"
      }
     },
     "output_type": "display_data"
    }
   ],
   "source": [
    "df_orderitems = spark.read.parquet(\"/mnt/bronze/OrderItems.parquet\")\n",
    "df_orderitems.display()"
   ]
  },
  {
   "cell_type": "code",
   "execution_count": 0,
   "metadata": {
    "application/vnd.databricks.v1+cell": {
     "cellMetadata": {
      "byteLimit": 2048000,
      "rowLimit": 10000
     },
     "inputWidgets": {},
     "nuid": "a4462c2f-c1c4-400e-864d-ff834f402420",
     "showTitle": false,
     "tableResultSettingsMap": {},
     "title": ""
    }
   },
   "outputs": [
    {
     "output_type": "display_data",
     "data": {
      "text/html": [
       "<style scoped>\n",
       "  .table-result-container {\n",
       "    max-height: 300px;\n",
       "    overflow: auto;\n",
       "  }\n",
       "  table, th, td {\n",
       "    border: 1px solid black;\n",
       "    border-collapse: collapse;\n",
       "  }\n",
       "  th, td {\n",
       "    padding: 5px;\n",
       "  }\n",
       "  th {\n",
       "    text-align: left;\n",
       "  }\n",
       "</style><div class='table-result-container'><table class='table-result'><thead style='background-color: white'><tr><th>OrderID</th><th>CustomerID</th><th>OrderDate</th><th>TotalAmount</th></tr></thead><tbody><tr><td>1</td><td>1</td><td>2025-05-01T00:00:00Z</td><td>150.99</td></tr><tr><td>2</td><td>2</td><td>2025-05-03T00:00:00Z</td><td>250.50</td></tr><tr><td>3</td><td>3</td><td>2025-05-04T00:00:00Z</td><td>75.00</td></tr><tr><td>4</td><td>4</td><td>2025-05-05T00:00:00Z</td><td>300.00</td></tr><tr><td>5</td><td>5</td><td>2025-05-06T00:00:00Z</td><td>89.99</td></tr><tr><td>6</td><td>6</td><td>2025-05-07T00:00:00Z</td><td>120.00</td></tr><tr><td>7</td><td>7</td><td>2025-05-08T00:00:00Z</td><td>45.00</td></tr><tr><td>8</td><td>8</td><td>2025-05-09T00:00:00Z</td><td>250.00</td></tr><tr><td>9</td><td>9</td><td>2025-05-10T00:00:00Z</td><td>500.00</td></tr><tr><td>10</td><td>10</td><td>2025-05-11T00:00:00Z</td><td>30.00</td></tr><tr><td>11</td><td>1</td><td>2025-05-12T00:00:00Z</td><td>70.00</td></tr><tr><td>12</td><td>2</td><td>2025-05-13T00:00:00Z</td><td>90.00</td></tr><tr><td>13</td><td>3</td><td>2025-05-14T00:00:00Z</td><td>200.00</td></tr><tr><td>14</td><td>4</td><td>2025-05-15T00:00:00Z</td><td>300.00</td></tr><tr><td>15</td><td>5</td><td>2025-05-16T00:00:00Z</td><td>110.00</td></tr></tbody></table></div>"
      ]
     },
     "metadata": {
      "application/vnd.databricks.v1+output": {
       "addedWidgets": {},
       "aggData": [],
       "aggError": "",
       "aggOverflow": false,
       "aggSchema": [],
       "aggSeriesLimitReached": false,
       "aggType": "",
       "arguments": {},
       "columnCustomDisplayInfos": {},
       "data": [
        [
         1,
         1,
         "2025-05-01T00:00:00Z",
         "150.99"
        ],
        [
         2,
         2,
         "2025-05-03T00:00:00Z",
         "250.50"
        ],
        [
         3,
         3,
         "2025-05-04T00:00:00Z",
         "75.00"
        ],
        [
         4,
         4,
         "2025-05-05T00:00:00Z",
         "300.00"
        ],
        [
         5,
         5,
         "2025-05-06T00:00:00Z",
         "89.99"
        ],
        [
         6,
         6,
         "2025-05-07T00:00:00Z",
         "120.00"
        ],
        [
         7,
         7,
         "2025-05-08T00:00:00Z",
         "45.00"
        ],
        [
         8,
         8,
         "2025-05-09T00:00:00Z",
         "250.00"
        ],
        [
         9,
         9,
         "2025-05-10T00:00:00Z",
         "500.00"
        ],
        [
         10,
         10,
         "2025-05-11T00:00:00Z",
         "30.00"
        ],
        [
         11,
         1,
         "2025-05-12T00:00:00Z",
         "70.00"
        ],
        [
         12,
         2,
         "2025-05-13T00:00:00Z",
         "90.00"
        ],
        [
         13,
         3,
         "2025-05-14T00:00:00Z",
         "200.00"
        ],
        [
         14,
         4,
         "2025-05-15T00:00:00Z",
         "300.00"
        ],
        [
         15,
         5,
         "2025-05-16T00:00:00Z",
         "110.00"
        ]
       ],
       "datasetInfos": [],
       "dbfsResultPath": null,
       "isJsonSchema": true,
       "metadata": {},
       "overflow": false,
       "plotOptions": {
        "customPlotOptions": {},
        "displayType": "table",
        "pivotAggregation": null,
        "pivotColumns": null,
        "xColumns": null,
        "yColumns": null
       },
       "removedWidgets": [],
       "schema": [
        {
         "metadata": "{}",
         "name": "OrderID",
         "type": "\"integer\""
        },
        {
         "metadata": "{}",
         "name": "CustomerID",
         "type": "\"integer\""
        },
        {
         "metadata": "{}",
         "name": "OrderDate",
         "type": "\"timestamp\""
        },
        {
         "metadata": "{}",
         "name": "TotalAmount",
         "type": "\"decimal(10,2)\""
        }
       ],
       "type": "table"
      }
     },
     "output_type": "display_data"
    }
   ],
   "source": [
    "df_orders = spark.read.parquet(\"/mnt/bronze/Orders.parquet\")\n",
    "df_orders.display()"
   ]
  },
  {
   "cell_type": "code",
   "execution_count": 0,
   "metadata": {
    "application/vnd.databricks.v1+cell": {
     "cellMetadata": {
      "byteLimit": 2048000,
      "rowLimit": 10000
     },
     "inputWidgets": {},
     "nuid": "2b8c4b04-68b0-4c2a-b917-031470d93443",
     "showTitle": false,
     "tableResultSettingsMap": {},
     "title": ""
    }
   },
   "outputs": [
    {
     "output_type": "display_data",
     "data": {
      "text/html": [
       "<style scoped>\n",
       "  .table-result-container {\n",
       "    max-height: 300px;\n",
       "    overflow: auto;\n",
       "  }\n",
       "  table, th, td {\n",
       "    border: 1px solid black;\n",
       "    border-collapse: collapse;\n",
       "  }\n",
       "  th, td {\n",
       "    padding: 5px;\n",
       "  }\n",
       "  th {\n",
       "    text-align: left;\n",
       "  }\n",
       "</style><div class='table-result-container'><table class='table-result'><thead style='background-color: white'><tr><th>ProductID</th><th>ProductName</th><th>Category</th><th>Price</th><th>Stock</th></tr></thead><tbody><tr><td>1</td><td>Wireless Mouse</td><td>Electronics</td><td>25.99</td><td>100</td></tr><tr><td>2</td><td>Bluetooth Keyboard</td><td>Electronics</td><td>45.50</td><td>150</td></tr><tr><td>3</td><td>USB-C Cable</td><td>Electronics</td><td>10.00</td><td>500</td></tr><tr><td>4</td><td>Laptop Stand</td><td>Accessories</td><td>35.00</td><td>75</td></tr><tr><td>5</td><td>Noise Cancelling Headphones</td><td>Electronics</td><td>199.99</td><td>40</td></tr><tr><td>6</td><td>Smartphone Case</td><td>Accessories</td><td>15.00</td><td>200</td></tr><tr><td>7</td><td>LED Monitor 24 inch</td><td>Electronics</td><td>150.00</td><td>50</td></tr><tr><td>8</td><td>External Hard Drive 1TB</td><td>Electronics</td><td>70.00</td><td>80</td></tr><tr><td>9</td><td>Gaming Chair</td><td>Furniture</td><td>250.00</td><td>20</td></tr><tr><td>10</td><td>Desk Lamp</td><td>Furniture</td><td>30.00</td><td>60</td></tr><tr><td>11</td><td>Coffee Mug</td><td>Kitchen</td><td>8.99</td><td>300</td></tr><tr><td>12</td><td>Water Bottle</td><td>Kitchen</td><td>12.00</td><td>250</td></tr><tr><td>13</td><td>Yoga Mat</td><td>Fitness</td><td>20.00</td><td>100</td></tr><tr><td>14</td><td>Dumbbells Set</td><td>Fitness</td><td>80.00</td><td>35</td></tr><tr><td>15</td><td>Running Shoes</td><td>Fitness</td><td>120.00</td><td>60</td></tr><tr><td>16</td><td>T-shirt</td><td>Clothing</td><td>15.00</td><td>400</td></tr><tr><td>17</td><td>Jeans</td><td>Clothing</td><td>40.00</td><td>150</td></tr><tr><td>18</td><td>Jacket</td><td>Clothing</td><td>90.00</td><td>100</td></tr><tr><td>19</td><td>Backpack</td><td>Accessories</td><td>60.00</td><td>75</td></tr><tr><td>20</td><td>Sunglasses</td><td>Accessories</td><td>70.00</td><td>90</td></tr></tbody></table></div>"
      ]
     },
     "metadata": {
      "application/vnd.databricks.v1+output": {
       "addedWidgets": {},
       "aggData": [],
       "aggError": "",
       "aggOverflow": false,
       "aggSchema": [],
       "aggSeriesLimitReached": false,
       "aggType": "",
       "arguments": {},
       "columnCustomDisplayInfos": {},
       "data": [
        [
         1,
         "Wireless Mouse",
         "Electronics",
         "25.99",
         100
        ],
        [
         2,
         "Bluetooth Keyboard",
         "Electronics",
         "45.50",
         150
        ],
        [
         3,
         "USB-C Cable",
         "Electronics",
         "10.00",
         500
        ],
        [
         4,
         "Laptop Stand",
         "Accessories",
         "35.00",
         75
        ],
        [
         5,
         "Noise Cancelling Headphones",
         "Electronics",
         "199.99",
         40
        ],
        [
         6,
         "Smartphone Case",
         "Accessories",
         "15.00",
         200
        ],
        [
         7,
         "LED Monitor 24 inch",
         "Electronics",
         "150.00",
         50
        ],
        [
         8,
         "External Hard Drive 1TB",
         "Electronics",
         "70.00",
         80
        ],
        [
         9,
         "Gaming Chair",
         "Furniture",
         "250.00",
         20
        ],
        [
         10,
         "Desk Lamp",
         "Furniture",
         "30.00",
         60
        ],
        [
         11,
         "Coffee Mug",
         "Kitchen",
         "8.99",
         300
        ],
        [
         12,
         "Water Bottle",
         "Kitchen",
         "12.00",
         250
        ],
        [
         13,
         "Yoga Mat",
         "Fitness",
         "20.00",
         100
        ],
        [
         14,
         "Dumbbells Set",
         "Fitness",
         "80.00",
         35
        ],
        [
         15,
         "Running Shoes",
         "Fitness",
         "120.00",
         60
        ],
        [
         16,
         "T-shirt",
         "Clothing",
         "15.00",
         400
        ],
        [
         17,
         "Jeans",
         "Clothing",
         "40.00",
         150
        ],
        [
         18,
         "Jacket",
         "Clothing",
         "90.00",
         100
        ],
        [
         19,
         "Backpack",
         "Accessories",
         "60.00",
         75
        ],
        [
         20,
         "Sunglasses",
         "Accessories",
         "70.00",
         90
        ]
       ],
       "datasetInfos": [],
       "dbfsResultPath": null,
       "isJsonSchema": true,
       "metadata": {},
       "overflow": false,
       "plotOptions": {
        "customPlotOptions": {},
        "displayType": "table",
        "pivotAggregation": null,
        "pivotColumns": null,
        "xColumns": null,
        "yColumns": null
       },
       "removedWidgets": [],
       "schema": [
        {
         "metadata": "{}",
         "name": "ProductID",
         "type": "\"integer\""
        },
        {
         "metadata": "{}",
         "name": "ProductName",
         "type": "\"string\""
        },
        {
         "metadata": "{}",
         "name": "Category",
         "type": "\"string\""
        },
        {
         "metadata": "{}",
         "name": "Price",
         "type": "\"decimal(10,2)\""
        },
        {
         "metadata": "{}",
         "name": "Stock",
         "type": "\"integer\""
        }
       ],
       "type": "table"
      }
     },
     "output_type": "display_data"
    }
   ],
   "source": [
    "df_products = spark.read.parquet(\"/mnt/bronze/Products.parquet\")\n",
    "df_products.display()"
   ]
  },
  {
   "cell_type": "code",
   "execution_count": 0,
   "metadata": {
    "application/vnd.databricks.v1+cell": {
     "cellMetadata": {
      "byteLimit": 2048000,
      "rowLimit": 10000
     },
     "inputWidgets": {},
     "nuid": "a6bd45b6-3c8e-45f4-92a9-04cf0194ca22",
     "showTitle": false,
     "tableResultSettingsMap": {},
     "title": ""
    }
   },
   "outputs": [
    {
     "output_type": "display_data",
     "data": {
      "text/html": [
       "<style scoped>\n",
       "  .table-result-container {\n",
       "    max-height: 300px;\n",
       "    overflow: auto;\n",
       "  }\n",
       "  table, th, td {\n",
       "    border: 1px solid black;\n",
       "    border-collapse: collapse;\n",
       "  }\n",
       "  th, td {\n",
       "    padding: 5px;\n",
       "  }\n",
       "  th {\n",
       "    text-align: left;\n",
       "  }\n",
       "</style><div class='table-result-container'><table class='table-result'><thead style='background-color: white'><tr><th>OrderID</th><th>CustomerID</th><th>OrderDate</th><th>TotalAmount</th></tr></thead><tbody><tr><td>1</td><td>1</td><td>2025-05-01</td><td>150.99</td></tr><tr><td>2</td><td>2</td><td>2025-05-03</td><td>250.50</td></tr><tr><td>3</td><td>3</td><td>2025-05-04</td><td>75.00</td></tr><tr><td>4</td><td>4</td><td>2025-05-05</td><td>300.00</td></tr><tr><td>5</td><td>5</td><td>2025-05-06</td><td>89.99</td></tr><tr><td>6</td><td>6</td><td>2025-05-07</td><td>120.00</td></tr><tr><td>7</td><td>7</td><td>2025-05-08</td><td>45.00</td></tr><tr><td>8</td><td>8</td><td>2025-05-09</td><td>250.00</td></tr><tr><td>9</td><td>9</td><td>2025-05-10</td><td>500.00</td></tr><tr><td>10</td><td>10</td><td>2025-05-11</td><td>30.00</td></tr><tr><td>11</td><td>1</td><td>2025-05-12</td><td>70.00</td></tr><tr><td>12</td><td>2</td><td>2025-05-13</td><td>90.00</td></tr><tr><td>13</td><td>3</td><td>2025-05-14</td><td>200.00</td></tr><tr><td>14</td><td>4</td><td>2025-05-15</td><td>300.00</td></tr><tr><td>15</td><td>5</td><td>2025-05-16</td><td>110.00</td></tr></tbody></table></div>"
      ]
     },
     "metadata": {
      "application/vnd.databricks.v1+output": {
       "addedWidgets": {},
       "aggData": [],
       "aggError": "",
       "aggOverflow": false,
       "aggSchema": [],
       "aggSeriesLimitReached": false,
       "aggType": "",
       "arguments": {},
       "columnCustomDisplayInfos": {},
       "data": [
        [
         1,
         1,
         "2025-05-01",
         "150.99"
        ],
        [
         2,
         2,
         "2025-05-03",
         "250.50"
        ],
        [
         3,
         3,
         "2025-05-04",
         "75.00"
        ],
        [
         4,
         4,
         "2025-05-05",
         "300.00"
        ],
        [
         5,
         5,
         "2025-05-06",
         "89.99"
        ],
        [
         6,
         6,
         "2025-05-07",
         "120.00"
        ],
        [
         7,
         7,
         "2025-05-08",
         "45.00"
        ],
        [
         8,
         8,
         "2025-05-09",
         "250.00"
        ],
        [
         9,
         9,
         "2025-05-10",
         "500.00"
        ],
        [
         10,
         10,
         "2025-05-11",
         "30.00"
        ],
        [
         11,
         1,
         "2025-05-12",
         "70.00"
        ],
        [
         12,
         2,
         "2025-05-13",
         "90.00"
        ],
        [
         13,
         3,
         "2025-05-14",
         "200.00"
        ],
        [
         14,
         4,
         "2025-05-15",
         "300.00"
        ],
        [
         15,
         5,
         "2025-05-16",
         "110.00"
        ]
       ],
       "datasetInfos": [],
       "dbfsResultPath": null,
       "isJsonSchema": true,
       "metadata": {},
       "overflow": false,
       "plotOptions": {
        "customPlotOptions": {},
        "displayType": "table",
        "pivotAggregation": null,
        "pivotColumns": null,
        "xColumns": null,
        "yColumns": null
       },
       "removedWidgets": [],
       "schema": [
        {
         "metadata": "{}",
         "name": "OrderID",
         "type": "\"integer\""
        },
        {
         "metadata": "{}",
         "name": "CustomerID",
         "type": "\"integer\""
        },
        {
         "metadata": "{}",
         "name": "OrderDate",
         "type": "\"string\""
        },
        {
         "metadata": "{}",
         "name": "TotalAmount",
         "type": "\"decimal(10,2)\""
        }
       ],
       "type": "table"
      }
     },
     "output_type": "display_data"
    }
   ],
   "source": [
    "#Change date type to yyyy-mm-dd\n",
    "from pyspark.sql.functions import *\n",
    "from pyspark.sql.types import TimestampType\n",
    "\n",
    "df_orders = df_orders.withColumn(\"OrderDate\", date_format(from_utc_timestamp(\"OrderDate\", \"UTC\"), \"yyyy-MM-dd\"))\n",
    "display(df_orders)"
   ]
  },
  {
   "cell_type": "code",
   "execution_count": 0,
   "metadata": {
    "application/vnd.databricks.v1+cell": {
     "cellMetadata": {
      "byteLimit": 2048000,
      "rowLimit": 10000
     },
     "inputWidgets": {},
     "nuid": "156137c0-0a58-486b-af22-f87eda28d1cb",
     "showTitle": false,
     "tableResultSettingsMap": {},
     "title": ""
    }
   },
   "outputs": [
    {
     "output_type": "display_data",
     "data": {
      "text/html": [
       "<style scoped>\n",
       "  .table-result-container {\n",
       "    max-height: 300px;\n",
       "    overflow: auto;\n",
       "  }\n",
       "  table, th, td {\n",
       "    border: 1px solid black;\n",
       "    border-collapse: collapse;\n",
       "  }\n",
       "  th, td {\n",
       "    padding: 5px;\n",
       "  }\n",
       "  th {\n",
       "    text-align: left;\n",
       "  }\n",
       "</style><div class='table-result-container'><table class='table-result'><thead style='background-color: white'><tr><th>CustomerID</th><th>FirstName</th><th>LastName</th><th>Email</th><th>CreatedDate</th></tr></thead><tbody><tr><td>1</td><td>John</td><td>Doe</td><td>john.doe@example.com</td><td>2025-06-03</td></tr><tr><td>2</td><td>Jane</td><td>Smith</td><td>jane.smith@example.com</td><td>2025-06-03</td></tr><tr><td>3</td><td>Michael</td><td>Brown</td><td>michael.brown@example.com</td><td>2025-06-03</td></tr><tr><td>4</td><td>Emily</td><td>Davis</td><td>emily.davis@example.com</td><td>2025-06-03</td></tr><tr><td>5</td><td>David</td><td>Wilson</td><td>david.wilson@example.com</td><td>2025-06-03</td></tr><tr><td>6</td><td>Laura</td><td>Taylor</td><td>laura.taylor@example.com</td><td>2025-06-03</td></tr><tr><td>7</td><td>James</td><td>Anderson</td><td>james.anderson@example.com</td><td>2025-06-03</td></tr><tr><td>8</td><td>Linda</td><td>Thomas</td><td>linda.thomas@example.com</td><td>2025-06-03</td></tr><tr><td>9</td><td>Robert</td><td>Jackson</td><td>robert.jackson@example.com</td><td>2025-06-03</td></tr><tr><td>10</td><td>Susan</td><td>White</td><td>susan.white@example.com</td><td>2025-06-03</td></tr></tbody></table></div>"
      ]
     },
     "metadata": {
      "application/vnd.databricks.v1+output": {
       "addedWidgets": {},
       "aggData": [],
       "aggError": "",
       "aggOverflow": false,
       "aggSchema": [],
       "aggSeriesLimitReached": false,
       "aggType": "",
       "arguments": {},
       "columnCustomDisplayInfos": {},
       "data": [
        [
         1,
         "John",
         "Doe",
         "john.doe@example.com",
         "2025-06-03"
        ],
        [
         2,
         "Jane",
         "Smith",
         "jane.smith@example.com",
         "2025-06-03"
        ],
        [
         3,
         "Michael",
         "Brown",
         "michael.brown@example.com",
         "2025-06-03"
        ],
        [
         4,
         "Emily",
         "Davis",
         "emily.davis@example.com",
         "2025-06-03"
        ],
        [
         5,
         "David",
         "Wilson",
         "david.wilson@example.com",
         "2025-06-03"
        ],
        [
         6,
         "Laura",
         "Taylor",
         "laura.taylor@example.com",
         "2025-06-03"
        ],
        [
         7,
         "James",
         "Anderson",
         "james.anderson@example.com",
         "2025-06-03"
        ],
        [
         8,
         "Linda",
         "Thomas",
         "linda.thomas@example.com",
         "2025-06-03"
        ],
        [
         9,
         "Robert",
         "Jackson",
         "robert.jackson@example.com",
         "2025-06-03"
        ],
        [
         10,
         "Susan",
         "White",
         "susan.white@example.com",
         "2025-06-03"
        ]
       ],
       "datasetInfos": [],
       "dbfsResultPath": null,
       "isJsonSchema": true,
       "metadata": {},
       "overflow": false,
       "plotOptions": {
        "customPlotOptions": {},
        "displayType": "table",
        "pivotAggregation": null,
        "pivotColumns": null,
        "xColumns": null,
        "yColumns": null
       },
       "removedWidgets": [],
       "schema": [
        {
         "metadata": "{}",
         "name": "CustomerID",
         "type": "\"integer\""
        },
        {
         "metadata": "{}",
         "name": "FirstName",
         "type": "\"string\""
        },
        {
         "metadata": "{}",
         "name": "LastName",
         "type": "\"string\""
        },
        {
         "metadata": "{}",
         "name": "Email",
         "type": "\"string\""
        },
        {
         "metadata": "{}",
         "name": "CreatedDate",
         "type": "\"string\""
        }
       ],
       "type": "table"
      }
     },
     "output_type": "display_data"
    }
   ],
   "source": [
    "df_customers = df_customers.withColumn(\"CreatedDate\", date_format(from_utc_timestamp(\"CreatedDate\", \"UTC\"), \"yyyy-MM-dd\"))\n",
    "display(df_customers)"
   ]
  },
  {
   "cell_type": "code",
   "execution_count": 0,
   "metadata": {
    "application/vnd.databricks.v1+cell": {
     "cellMetadata": {
      "byteLimit": 2048000,
      "rowLimit": 10000
     },
     "inputWidgets": {},
     "nuid": "b11b5804-f226-4e6d-bd38-23a2a3305383",
     "showTitle": false,
     "tableResultSettingsMap": {},
     "title": ""
    }
   },
   "outputs": [
    {
     "output_type": "display_data",
     "data": {
      "text/html": [
       "<style scoped>\n",
       "  .table-result-container {\n",
       "    max-height: 300px;\n",
       "    overflow: auto;\n",
       "  }\n",
       "  table, th, td {\n",
       "    border: 1px solid black;\n",
       "    border-collapse: collapse;\n",
       "  }\n",
       "  th, td {\n",
       "    padding: 5px;\n",
       "  }\n",
       "  th {\n",
       "    text-align: left;\n",
       "  }\n",
       "</style><div class='table-result-container'><table class='table-result'><thead style='background-color: white'><tr><th>CustomerID</th><th>FirstName</th><th>LastName</th><th>Email</th><th>CreatedDate</th></tr></thead><tbody><tr><td>1</td><td>John</td><td>Doe</td><td>john.doe@gmail.com</td><td>2025-06-03</td></tr><tr><td>2</td><td>Jane</td><td>Smith</td><td>jane.smith@gmail.com</td><td>2025-06-03</td></tr><tr><td>3</td><td>Michael</td><td>Brown</td><td>michael.brown@gmail.com</td><td>2025-06-03</td></tr><tr><td>4</td><td>Emily</td><td>Davis</td><td>emily.davis@gmail.com</td><td>2025-06-03</td></tr><tr><td>5</td><td>David</td><td>Wilson</td><td>david.wilson@gmail.com</td><td>2025-06-03</td></tr><tr><td>6</td><td>Laura</td><td>Taylor</td><td>laura.taylor@gmail.com</td><td>2025-06-03</td></tr><tr><td>7</td><td>James</td><td>Anderson</td><td>james.anderson@gmail.com</td><td>2025-06-03</td></tr><tr><td>8</td><td>Linda</td><td>Thomas</td><td>linda.thomas@gmail.com</td><td>2025-06-03</td></tr><tr><td>9</td><td>Robert</td><td>Jackson</td><td>robert.jackson@gmail.com</td><td>2025-06-03</td></tr><tr><td>10</td><td>Susan</td><td>White</td><td>susan.white@gmail.com</td><td>2025-06-03</td></tr></tbody></table></div>"
      ]
     },
     "metadata": {
      "application/vnd.databricks.v1+output": {
       "addedWidgets": {},
       "aggData": [],
       "aggError": "",
       "aggOverflow": false,
       "aggSchema": [],
       "aggSeriesLimitReached": false,
       "aggType": "",
       "arguments": {},
       "columnCustomDisplayInfos": {},
       "data": [
        [
         1,
         "John",
         "Doe",
         "john.doe@gmail.com",
         "2025-06-03"
        ],
        [
         2,
         "Jane",
         "Smith",
         "jane.smith@gmail.com",
         "2025-06-03"
        ],
        [
         3,
         "Michael",
         "Brown",
         "michael.brown@gmail.com",
         "2025-06-03"
        ],
        [
         4,
         "Emily",
         "Davis",
         "emily.davis@gmail.com",
         "2025-06-03"
        ],
        [
         5,
         "David",
         "Wilson",
         "david.wilson@gmail.com",
         "2025-06-03"
        ],
        [
         6,
         "Laura",
         "Taylor",
         "laura.taylor@gmail.com",
         "2025-06-03"
        ],
        [
         7,
         "James",
         "Anderson",
         "james.anderson@gmail.com",
         "2025-06-03"
        ],
        [
         8,
         "Linda",
         "Thomas",
         "linda.thomas@gmail.com",
         "2025-06-03"
        ],
        [
         9,
         "Robert",
         "Jackson",
         "robert.jackson@gmail.com",
         "2025-06-03"
        ],
        [
         10,
         "Susan",
         "White",
         "susan.white@gmail.com",
         "2025-06-03"
        ]
       ],
       "datasetInfos": [],
       "dbfsResultPath": null,
       "isJsonSchema": true,
       "metadata": {},
       "overflow": false,
       "plotOptions": {
        "customPlotOptions": {},
        "displayType": "table",
        "pivotAggregation": null,
        "pivotColumns": null,
        "xColumns": null,
        "yColumns": null
       },
       "removedWidgets": [],
       "schema": [
        {
         "metadata": "{}",
         "name": "CustomerID",
         "type": "\"integer\""
        },
        {
         "metadata": "{}",
         "name": "FirstName",
         "type": "\"string\""
        },
        {
         "metadata": "{}",
         "name": "LastName",
         "type": "\"string\""
        },
        {
         "metadata": "{}",
         "name": "Email",
         "type": "\"string\""
        },
        {
         "metadata": "{}",
         "name": "CreatedDate",
         "type": "\"string\""
        }
       ],
       "type": "table"
      }
     },
     "output_type": "display_data"
    }
   ],
   "source": [
    "#change the @example to @gmail\n",
    "df_customers = df_customers.withColumn(\"Email\", regexp_replace(\"Email\", \"@example\", \"@gmail\"))\n",
    "display(df_customers)"
   ]
  },
  {
   "cell_type": "code",
   "execution_count": 0,
   "metadata": {
    "application/vnd.databricks.v1+cell": {
     "cellMetadata": {
      "byteLimit": 2048000,
      "rowLimit": 10000
     },
     "inputWidgets": {},
     "nuid": "23916d63-e415-43f7-a388-9bae45f89f52",
     "showTitle": false,
     "tableResultSettingsMap": {},
     "title": ""
    }
   },
   "outputs": [],
   "source": [
    "# Write to Silver as Delta\n",
    "df_customers.write.format(\"delta\").mode(\"overwrite\").save(\"/mnt/silver/Customers\")\n",
    "df_orders.write.format(\"delta\").mode(\"overwrite\").save(\"/mnt/silver/Orders\")\n",
    "df_orderitems.write.format(\"delta\").mode(\"overwrite\").save(\"/mnt/silver/OrderItems\")\n",
    "df_products.write.format(\"delta\").mode(\"overwrite\").save(\"/mnt/silver/Products\")"
   ]
  }
 ],
 "metadata": {
  "application/vnd.databricks.v1+notebook": {
   "computePreferences": null,
   "dashboards": [],
   "environmentMetadata": {
    "base_environment": "",
    "environment_version": "2"
   },
   "inputWidgetPreferences": null,
   "language": "python",
   "notebookMetadata": {
    "pythonIndentUnit": 4
   },
   "notebookName": "bronze to silver",
   "widgets": {}
  },
  "language_info": {
   "name": "python"
  }
 },
 "nbformat": 4,
 "nbformat_minor": 0
}