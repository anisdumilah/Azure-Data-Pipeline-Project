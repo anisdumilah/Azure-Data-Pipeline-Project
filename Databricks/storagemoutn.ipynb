{
 "cells": [
  {
   "cell_type": "code",
   "execution_count": 0,
   "metadata": {
    "application/vnd.databricks.v1+cell": {
     "cellMetadata": {
      "byteLimit": 2048000,
      "rowLimit": 10000
     },
     "inputWidgets": {},
     "nuid": "c1418032-e870-48c3-8468-39f8597ccad1",
     "showTitle": false,
     "tableResultSettingsMap": {},
     "title": ""
    }
   },
   "outputs": [],
   "source": [
    "%python\n",
    "spark.conf.set(\n",
    "  \"spark.hadoop.fs.azure.account.oauth2.client.secret.anisdumilah.dfs.core.windows.net\", \n",
    "  dbutils.secrets.get(scope=\"scopesecretsadls\", key=\"databricksclientsecret\")\n",
    ")"
   ]
  },
  {
   "cell_type": "code",
   "execution_count": 0,
   "metadata": {
    "application/vnd.databricks.v1+cell": {
     "cellMetadata": {
      "byteLimit": 2048000,
      "rowLimit": 10000
     },
     "inputWidgets": {},
     "nuid": "4e4f3d37-fb3d-4760-a7e1-1be6f9458574",
     "showTitle": false,
     "tableResultSettingsMap": {},
     "title": ""
    }
   },
   "outputs": [
    {
     "output_type": "execute_result",
     "data": {
      "text/plain": [
       "True"
      ]
     },
     "execution_count": 15,
     "metadata": {},
     "output_type": "execute_result"
    }
   ],
   "source": [
    "configs = {\n",
    "  \"fs.azure.account.auth.type\": \"OAuth\",\n",
    "  \"fs.azure.account.oauth.provider.type\": \"org.apache.hadoop.fs.azurebfs.oauth2.ClientCredsTokenProvider\",\n",
    "  \"fs.azure.account.oauth2.client.id\": \"6dba1373-908f-45ce-9a3d-6ec8a2c0eb17\",\n",
    "  \"fs.azure.account.oauth2.client.secret\": dbutils.secrets.get(scope=\"scopesecretsadls\", key=\"databricksclientsecret\"),\n",
    "  \"fs.azure.account.oauth2.client.endpoint\": \"https://login.microsoftonline.com/92b9c102-f53e-403c-a0de-406664201252/oauth2/token\"\n",
    "}\n",
    "\n",
    "# Mount the Azure Data Lake Storage\n",
    "dbutils.fs.mount(\n",
    "  source = \"abfss://bronze@anisdumilah.dfs.core.windows.net/\",\n",
    "  mount_point = \"/mnt/bronze\",\n",
    "  extra_configs = configs\n",
    ")"
   ]
  },
  {
   "cell_type": "code",
   "execution_count": 0,
   "metadata": {
    "application/vnd.databricks.v1+cell": {
     "cellMetadata": {},
     "inputWidgets": {},
     "nuid": "e97f103c-9f70-4334-b15c-f3fc330d6c3c",
     "showTitle": false,
     "tableResultSettingsMap": {},
     "title": ""
    }
   },
   "outputs": [],
   "source": [
    "configs = {\n",
    "  \"fs.azure.account.auth.type\": \"OAuth\",\n",
    "  \"fs.azure.account.oauth.provider.type\": \"org.apache.hadoop.fs.azurebfs.oauth2.ClientCredsTokenProvider\",\n",
    "  \"fs.azure.account.oauth2.client.id\": \"6dba1373-908f-45ce-9a3d-6ec8a2c0eb17\",\n",
    "  \"fs.azure.account.oauth2.client.secret\": dbutils.secrets.get(scope=\"scopesecretsadls\", key=\"databricksclientsecret\"),\n",
    "  \"fs.azure.account.oauth2.client.endpoint\": \"https://login.microsoftonline.com/92b9c102-f53e-403c-a0de-406664201252/oauth2/token\"\n",
    "}\n",
    "\n",
    "# Mount the Azure Data Lake Storage\n",
    "dbutils.fs.mount(\n",
    "  source = \"abfss://silver@anisdumilah.dfs.core.windows.net/\",\n",
    "  mount_point = \"/mnt/silver\",\n",
    "  extra_configs = configs\n",
    ")"
   ]
  },
  {
   "cell_type": "code",
   "execution_count": 0,
   "metadata": {
    "application/vnd.databricks.v1+cell": {
     "cellMetadata": {},
     "inputWidgets": {},
     "nuid": "543a5de8-589b-4f22-b6f1-f1b40c27a306",
     "showTitle": false,
     "tableResultSettingsMap": {},
     "title": ""
    }
   },
   "outputs": [],
   "source": [
    "configs = {\n",
    "  \"fs.azure.account.auth.type\": \"OAuth\",\n",
    "  \"fs.azure.account.oauth.provider.type\": \"org.apache.hadoop.fs.azurebfs.oauth2.ClientCredsTokenProvider\",\n",
    "  \"fs.azure.account.oauth2.client.id\": \"6dba1373-908f-45ce-9a3d-6ec8a2c0eb17\",\n",
    "  \"fs.azure.account.oauth2.client.secret\": dbutils.secrets.get(scope=\"scopesecretsadls\", key=\"databricksclientsecret\"),\n",
    "  \"fs.azure.account.oauth2.client.endpoint\": \"https://login.microsoftonline.com/92b9c102-f53e-403c-a0de-406664201252/oauth2/token\"\n",
    "}\n",
    "\n",
    "# Mount the Azure Data Lake Storage\n",
    "dbutils.fs.mount(\n",
    "  source = \"abfss://gold@anisdumilah.dfs.core.windows.net/\",\n",
    "  mount_point = \"/mnt/gold\",\n",
    "  extra_configs = configs\n",
    ")"
   ]
  },
  {
   "cell_type": "code",
   "execution_count": 0,
   "metadata": {
    "application/vnd.databricks.v1+cell": {
     "cellMetadata": {
      "byteLimit": 2048000,
      "rowLimit": 10000
     },
     "inputWidgets": {},
     "nuid": "2ff3bfa0-af28-460b-9e03-a8e2fda95c97",
     "showTitle": false,
     "tableResultSettingsMap": {},
     "title": ""
    }
   },
   "outputs": [
    {
     "output_type": "display_data",
     "data": {
      "text/html": [
       "<style scoped>\n",
       "  .table-result-container {\n",
       "    max-height: 300px;\n",
       "    overflow: auto;\n",
       "  }\n",
       "  table, th, td {\n",
       "    border: 1px solid black;\n",
       "    border-collapse: collapse;\n",
       "  }\n",
       "  th, td {\n",
       "    padding: 5px;\n",
       "  }\n",
       "  th {\n",
       "    text-align: left;\n",
       "  }\n",
       "</style><div class='table-result-container'><table class='table-result'><thead style='background-color: white'><tr><th>path</th><th>name</th><th>size</th><th>modificationTime</th></tr></thead><tbody><tr><td>dbfs:/mnt/bronze/Customers.parquet</td><td>Customers.parquet</td><td>1510</td><td>1749187244000</td></tr><tr><td>dbfs:/mnt/bronze/OrderItems.parquet</td><td>OrderItems.parquet</td><td>1631</td><td>1749187267000</td></tr><tr><td>dbfs:/mnt/bronze/Orders.parquet</td><td>Orders.parquet</td><td>1072</td><td>1749187288000</td></tr><tr><td>dbfs:/mnt/bronze/Products.parquet</td><td>Products.parquet</td><td>1742</td><td>1749187312000</td></tr></tbody></table></div>"
      ]
     },
     "metadata": {
      "application/vnd.databricks.v1+output": {
       "addedWidgets": {},
       "aggData": [],
       "aggError": "",
       "aggOverflow": false,
       "aggSchema": [],
       "aggSeriesLimitReached": false,
       "aggType": "",
       "arguments": {},
       "columnCustomDisplayInfos": {},
       "data": [
        [
         "dbfs:/mnt/bronze/Customers.parquet",
         "Customers.parquet",
         1510,
         1749187244000
        ],
        [
         "dbfs:/mnt/bronze/OrderItems.parquet",
         "OrderItems.parquet",
         1631,
         1749187267000
        ],
        [
         "dbfs:/mnt/bronze/Orders.parquet",
         "Orders.parquet",
         1072,
         1749187288000
        ],
        [
         "dbfs:/mnt/bronze/Products.parquet",
         "Products.parquet",
         1742,
         1749187312000
        ]
       ],
       "datasetInfos": [],
       "dbfsResultPath": null,
       "isJsonSchema": true,
       "metadata": {},
       "overflow": false,
       "plotOptions": {
        "customPlotOptions": {},
        "displayType": "table",
        "pivotAggregation": null,
        "pivotColumns": null,
        "xColumns": null,
        "yColumns": null
       },
       "removedWidgets": [],
       "schema": [
        {
         "metadata": "{}",
         "name": "path",
         "type": "\"string\""
        },
        {
         "metadata": "{}",
         "name": "name",
         "type": "\"string\""
        },
        {
         "metadata": "{}",
         "name": "size",
         "type": "\"long\""
        },
        {
         "metadata": "{}",
         "name": "modificationTime",
         "type": "\"long\""
        }
       ],
       "type": "table"
      }
     },
     "output_type": "display_data"
    }
   ],
   "source": [
    "display(dbutils.fs.ls(\"mnt/bronze\"))"
   ]
  },
  {
   "cell_type": "code",
   "execution_count": 0,
   "metadata": {
    "application/vnd.databricks.v1+cell": {
     "cellMetadata": {
      "byteLimit": 2048000,
      "rowLimit": 10000
     },
     "inputWidgets": {},
     "nuid": "939afb65-9cae-419d-85f6-6eaebf181dd6",
     "showTitle": false,
     "tableResultSettingsMap": {},
     "title": ""
    }
   },
   "outputs": [
    {
     "output_type": "display_data",
     "data": {
      "text/html": [
       "<style scoped>\n",
       "  .table-result-container {\n",
       "    max-height: 300px;\n",
       "    overflow: auto;\n",
       "  }\n",
       "  table, th, td {\n",
       "    border: 1px solid black;\n",
       "    border-collapse: collapse;\n",
       "  }\n",
       "  th, td {\n",
       "    padding: 5px;\n",
       "  }\n",
       "  th {\n",
       "    text-align: left;\n",
       "  }\n",
       "</style><div class='table-result-container'><table class='table-result'><thead style='background-color: white'><tr><th>OrderID</th><th>CustomerID</th><th>OrderDate</th><th>TotalAmount</th></tr></thead><tbody><tr><td>1</td><td>1</td><td>2025-05-01T00:00:00Z</td><td>150.99</td></tr><tr><td>2</td><td>2</td><td>2025-05-03T00:00:00Z</td><td>250.50</td></tr><tr><td>3</td><td>3</td><td>2025-05-04T00:00:00Z</td><td>75.00</td></tr><tr><td>4</td><td>4</td><td>2025-05-05T00:00:00Z</td><td>300.00</td></tr><tr><td>5</td><td>5</td><td>2025-05-06T00:00:00Z</td><td>89.99</td></tr><tr><td>6</td><td>6</td><td>2025-05-07T00:00:00Z</td><td>120.00</td></tr><tr><td>7</td><td>7</td><td>2025-05-08T00:00:00Z</td><td>45.00</td></tr><tr><td>8</td><td>8</td><td>2025-05-09T00:00:00Z</td><td>250.00</td></tr><tr><td>9</td><td>9</td><td>2025-05-10T00:00:00Z</td><td>500.00</td></tr><tr><td>10</td><td>10</td><td>2025-05-11T00:00:00Z</td><td>30.00</td></tr><tr><td>11</td><td>1</td><td>2025-05-12T00:00:00Z</td><td>70.00</td></tr><tr><td>12</td><td>2</td><td>2025-05-13T00:00:00Z</td><td>90.00</td></tr><tr><td>13</td><td>3</td><td>2025-05-14T00:00:00Z</td><td>200.00</td></tr><tr><td>14</td><td>4</td><td>2025-05-15T00:00:00Z</td><td>300.00</td></tr><tr><td>15</td><td>5</td><td>2025-05-16T00:00:00Z</td><td>110.00</td></tr></tbody></table></div>"
      ]
     },
     "metadata": {
      "application/vnd.databricks.v1+output": {
       "addedWidgets": {},
       "aggData": [],
       "aggError": "",
       "aggOverflow": false,
       "aggSchema": [],
       "aggSeriesLimitReached": false,
       "aggType": "",
       "arguments": {},
       "columnCustomDisplayInfos": {},
       "data": [
        [
         1,
         1,
         "2025-05-01T00:00:00Z",
         "150.99"
        ],
        [
         2,
         2,
         "2025-05-03T00:00:00Z",
         "250.50"
        ],
        [
         3,
         3,
         "2025-05-04T00:00:00Z",
         "75.00"
        ],
        [
         4,
         4,
         "2025-05-05T00:00:00Z",
         "300.00"
        ],
        [
         5,
         5,
         "2025-05-06T00:00:00Z",
         "89.99"
        ],
        [
         6,
         6,
         "2025-05-07T00:00:00Z",
         "120.00"
        ],
        [
         7,
         7,
         "2025-05-08T00:00:00Z",
         "45.00"
        ],
        [
         8,
         8,
         "2025-05-09T00:00:00Z",
         "250.00"
        ],
        [
         9,
         9,
         "2025-05-10T00:00:00Z",
         "500.00"
        ],
        [
         10,
         10,
         "2025-05-11T00:00:00Z",
         "30.00"
        ],
        [
         11,
         1,
         "2025-05-12T00:00:00Z",
         "70.00"
        ],
        [
         12,
         2,
         "2025-05-13T00:00:00Z",
         "90.00"
        ],
        [
         13,
         3,
         "2025-05-14T00:00:00Z",
         "200.00"
        ],
        [
         14,
         4,
         "2025-05-15T00:00:00Z",
         "300.00"
        ],
        [
         15,
         5,
         "2025-05-16T00:00:00Z",
         "110.00"
        ]
       ],
       "datasetInfos": [],
       "dbfsResultPath": null,
       "isJsonSchema": true,
       "metadata": {},
       "overflow": false,
       "plotOptions": {
        "customPlotOptions": {},
        "displayType": "table",
        "pivotAggregation": null,
        "pivotColumns": null,
        "xColumns": null,
        "yColumns": null
       },
       "removedWidgets": [],
       "schema": [
        {
         "metadata": "{}",
         "name": "OrderID",
         "type": "\"integer\""
        },
        {
         "metadata": "{}",
         "name": "CustomerID",
         "type": "\"integer\""
        },
        {
         "metadata": "{}",
         "name": "OrderDate",
         "type": "\"timestamp\""
        },
        {
         "metadata": "{}",
         "name": "TotalAmount",
         "type": "\"decimal(10,2)\""
        }
       ],
       "type": "table"
      }
     },
     "output_type": "display_data"
    }
   ],
   "source": [
    "df_order = spark.read.parquet(\"/mnt/bronze/Orders.parquet\")\n",
    "df_order.display()"
   ]
  },
  {
   "cell_type": "code",
   "execution_count": 0,
   "metadata": {
    "application/vnd.databricks.v1+cell": {
     "cellMetadata": {
      "byteLimit": 2048000,
      "rowLimit": 10000
     },
     "inputWidgets": {},
     "nuid": "35fb0c5b-ecb2-4bc3-8490-ddc96581f979",
     "showTitle": false,
     "tableResultSettingsMap": {},
     "title": ""
    }
   },
   "outputs": [
    {
     "output_type": "stream",
     "name": "stdout",
     "output_type": "stream",
     "text": [
      "+----------+---------+--------+--------------------+--------------------+\n|CustomerID|FirstName|LastName|               Email|         CreatedDate|\n+----------+---------+--------+--------------------+--------------------+\n|         1|     John|     Doe|john.doe@example.com|2025-06-03 11:16:...|\n|         2|     Jane|   Smith|jane.smith@exampl...|2025-06-03 11:16:...|\n|         3|  Michael|   Brown|michael.brown@exa...|2025-06-03 11:16:...|\n|         4|    Emily|   Davis|emily.davis@examp...|2025-06-03 11:16:...|\n|         5|    David|  Wilson|david.wilson@exam...|2025-06-03 11:16:...|\n|         6|    Laura|  Taylor|laura.taylor@exam...|2025-06-03 11:16:...|\n|         7|    James|Anderson|james.anderson@ex...|2025-06-03 11:16:...|\n|         8|    Linda|  Thomas|linda.thomas@exam...|2025-06-03 11:16:...|\n|         9|   Robert| Jackson|robert.jackson@ex...|2025-06-03 11:16:...|\n|        10|    Susan|   White|susan.white@examp...|2025-06-03 11:16:...|\n+----------+---------+--------+--------------------+--------------------+\n\n"
     ]
    }
   ],
   "source": [
    "df_customer = spark.read.parquet(\"/mnt/bronze/Customers.parquet\")\n",
    "df_customer.show()"
   ]
  },
  {
   "cell_type": "code",
   "execution_count": 0,
   "metadata": {
    "application/vnd.databricks.v1+cell": {
     "cellMetadata": {
      "byteLimit": 2048000,
      "rowLimit": 10000
     },
     "inputWidgets": {},
     "nuid": "3176e3db-e8f5-41c1-ad56-190c9270cf38",
     "showTitle": false,
     "tableResultSettingsMap": {},
     "title": ""
    }
   },
   "outputs": [
    {
     "output_type": "display_data",
     "data": {
      "text/html": [
       "<style scoped>\n",
       "  .table-result-container {\n",
       "    max-height: 300px;\n",
       "    overflow: auto;\n",
       "  }\n",
       "  table, th, td {\n",
       "    border: 1px solid black;\n",
       "    border-collapse: collapse;\n",
       "  }\n",
       "  th, td {\n",
       "    padding: 5px;\n",
       "  }\n",
       "  th {\n",
       "    text-align: left;\n",
       "  }\n",
       "</style><div class='table-result-container'><table class='table-result'><thead style='background-color: white'><tr><th>OrderItemID</th><th>OrderID</th><th>ProductID</th><th>Quantity</th><th>UnitPrice</th></tr></thead><tbody><tr><td>1</td><td>1</td><td>1</td><td>2</td><td>25.99</td></tr><tr><td>2</td><td>1</td><td>6</td><td>1</td><td>15.00</td></tr><tr><td>3</td><td>2</td><td>9</td><td>1</td><td>250.00</td></tr><tr><td>4</td><td>3</td><td>3</td><td>5</td><td>10.00</td></tr><tr><td>5</td><td>3</td><td>11</td><td>3</td><td>8.99</td></tr><tr><td>6</td><td>4</td><td>5</td><td>1</td><td>199.99</td></tr><tr><td>7</td><td>4</td><td>10</td><td>3</td><td>30.00</td></tr><tr><td>8</td><td>5</td><td>12</td><td>2</td><td>12.00</td></tr><tr><td>9</td><td>6</td><td>7</td><td>1</td><td>150.00</td></tr><tr><td>10</td><td>6</td><td>20</td><td>1</td><td>70.00</td></tr><tr><td>11</td><td>7</td><td>16</td><td>3</td><td>15.00</td></tr><tr><td>12</td><td>8</td><td>9</td><td>1</td><td>250.00</td></tr><tr><td>13</td><td>8</td><td>13</td><td>2</td><td>20.00</td></tr><tr><td>14</td><td>9</td><td>4</td><td>2</td><td>35.00</td></tr><tr><td>15</td><td>9</td><td>15</td><td>2</td><td>120.00</td></tr><tr><td>16</td><td>9</td><td>19</td><td>1</td><td>60.00</td></tr><tr><td>17</td><td>10</td><td>11</td><td>3</td><td>8.99</td></tr><tr><td>18</td><td>11</td><td>1</td><td>1</td><td>25.99</td></tr><tr><td>19</td><td>11</td><td>3</td><td>2</td><td>10.00</td></tr><tr><td>20</td><td>12</td><td>17</td><td>2</td><td>40.00</td></tr><tr><td>21</td><td>12</td><td>18</td><td>1</td><td>90.00</td></tr><tr><td>22</td><td>13</td><td>5</td><td>1</td><td>199.99</td></tr><tr><td>23</td><td>13</td><td>14</td><td>1</td><td>80.00</td></tr><tr><td>24</td><td>14</td><td>6</td><td>5</td><td>15.00</td></tr><tr><td>25</td><td>14</td><td>8</td><td>1</td><td>70.00</td></tr><tr><td>26</td><td>15</td><td>20</td><td>2</td><td>70.00</td></tr><tr><td>27</td><td>15</td><td>2</td><td>3</td><td>45.50</td></tr><tr><td>28</td><td>2</td><td>11</td><td>2</td><td>8.99</td></tr><tr><td>29</td><td>4</td><td>13</td><td>1</td><td>20.00</td></tr><tr><td>30</td><td>7</td><td>19</td><td>1</td><td>60.00</td></tr><tr><td>31</td><td>5</td><td>1</td><td>4</td><td>25.99</td></tr><tr><td>32</td><td>1</td><td>14</td><td>1</td><td>80.00</td></tr><tr><td>33</td><td>10</td><td>7</td><td>1</td><td>150.00</td></tr><tr><td>34</td><td>12</td><td>9</td><td>1</td><td>250.00</td></tr><tr><td>35</td><td>9</td><td>2</td><td>2</td><td>45.50</td></tr><tr><td>36</td><td>3</td><td>18</td><td>1</td><td>90.00</td></tr><tr><td>37</td><td>8</td><td>4</td><td>3</td><td>35.00</td></tr><tr><td>38</td><td>6</td><td>16</td><td>1</td><td>15.00</td></tr><tr><td>39</td><td>13</td><td>12</td><td>1</td><td>12.00</td></tr></tbody></table></div>"
      ]
     },
     "metadata": {
      "application/vnd.databricks.v1+output": {
       "addedWidgets": {},
       "aggData": [],
       "aggError": "",
       "aggOverflow": false,
       "aggSchema": [],
       "aggSeriesLimitReached": false,
       "aggType": "",
       "arguments": {},
       "columnCustomDisplayInfos": {},
       "data": [
        [
         1,
         1,
         1,
         2,
         "25.99"
        ],
        [
         2,
         1,
         6,
         1,
         "15.00"
        ],
        [
         3,
         2,
         9,
         1,
         "250.00"
        ],
        [
         4,
         3,
         3,
         5,
         "10.00"
        ],
        [
         5,
         3,
         11,
         3,
         "8.99"
        ],
        [
         6,
         4,
         5,
         1,
         "199.99"
        ],
        [
         7,
         4,
         10,
         3,
         "30.00"
        ],
        [
         8,
         5,
         12,
         2,
         "12.00"
        ],
        [
         9,
         6,
         7,
         1,
         "150.00"
        ],
        [
         10,
         6,
         20,
         1,
         "70.00"
        ],
        [
         11,
         7,
         16,
         3,
         "15.00"
        ],
        [
         12,
         8,
         9,
         1,
         "250.00"
        ],
        [
         13,
         8,
         13,
         2,
         "20.00"
        ],
        [
         14,
         9,
         4,
         2,
         "35.00"
        ],
        [
         15,
         9,
         15,
         2,
         "120.00"
        ],
        [
         16,
         9,
         19,
         1,
         "60.00"
        ],
        [
         17,
         10,
         11,
         3,
         "8.99"
        ],
        [
         18,
         11,
         1,
         1,
         "25.99"
        ],
        [
         19,
         11,
         3,
         2,
         "10.00"
        ],
        [
         20,
         12,
         17,
         2,
         "40.00"
        ],
        [
         21,
         12,
         18,
         1,
         "90.00"
        ],
        [
         22,
         13,
         5,
         1,
         "199.99"
        ],
        [
         23,
         13,
         14,
         1,
         "80.00"
        ],
        [
         24,
         14,
         6,
         5,
         "15.00"
        ],
        [
         25,
         14,
         8,
         1,
         "70.00"
        ],
        [
         26,
         15,
         20,
         2,
         "70.00"
        ],
        [
         27,
         15,
         2,
         3,
         "45.50"
        ],
        [
         28,
         2,
         11,
         2,
         "8.99"
        ],
        [
         29,
         4,
         13,
         1,
         "20.00"
        ],
        [
         30,
         7,
         19,
         1,
         "60.00"
        ],
        [
         31,
         5,
         1,
         4,
         "25.99"
        ],
        [
         32,
         1,
         14,
         1,
         "80.00"
        ],
        [
         33,
         10,
         7,
         1,
         "150.00"
        ],
        [
         34,
         12,
         9,
         1,
         "250.00"
        ],
        [
         35,
         9,
         2,
         2,
         "45.50"
        ],
        [
         36,
         3,
         18,
         1,
         "90.00"
        ],
        [
         37,
         8,
         4,
         3,
         "35.00"
        ],
        [
         38,
         6,
         16,
         1,
         "15.00"
        ],
        [
         39,
         13,
         12,
         1,
         "12.00"
        ]
       ],
       "datasetInfos": [],
       "dbfsResultPath": null,
       "isJsonSchema": true,
       "metadata": {},
       "overflow": false,
       "plotOptions": {
        "customPlotOptions": {},
        "displayType": "table",
        "pivotAggregation": null,
        "pivotColumns": null,
        "xColumns": null,
        "yColumns": null
       },
       "removedWidgets": [],
       "schema": [
        {
         "metadata": "{}",
         "name": "OrderItemID",
         "type": "\"integer\""
        },
        {
         "metadata": "{}",
         "name": "OrderID",
         "type": "\"integer\""
        },
        {
         "metadata": "{}",
         "name": "ProductID",
         "type": "\"integer\""
        },
        {
         "metadata": "{}",
         "name": "Quantity",
         "type": "\"integer\""
        },
        {
         "metadata": "{}",
         "name": "UnitPrice",
         "type": "\"decimal(10,2)\""
        }
       ],
       "type": "table"
      }
     },
     "output_type": "display_data"
    }
   ],
   "source": [
    "df_orderitems = spark.read.parquet(\"/mnt/bronze/OrderItems.parquet\")\n",
    "df_orderitems.display()"
   ]
  },
  {
   "cell_type": "code",
   "execution_count": 0,
   "metadata": {
    "application/vnd.databricks.v1+cell": {
     "cellMetadata": {
      "byteLimit": 2048000,
      "rowLimit": 10000
     },
     "inputWidgets": {},
     "nuid": "1dad1888-82e5-4ca0-b838-afcd6b1ed87a",
     "showTitle": false,
     "tableResultSettingsMap": {},
     "title": ""
    }
   },
   "outputs": [
    {
     "output_type": "display_data",
     "data": {
      "text/html": [
       "<style scoped>\n",
       "  .table-result-container {\n",
       "    max-height: 300px;\n",
       "    overflow: auto;\n",
       "  }\n",
       "  table, th, td {\n",
       "    border: 1px solid black;\n",
       "    border-collapse: collapse;\n",
       "  }\n",
       "  th, td {\n",
       "    padding: 5px;\n",
       "  }\n",
       "  th {\n",
       "    text-align: left;\n",
       "  }\n",
       "</style><div class='table-result-container'><table class='table-result'><thead style='background-color: white'><tr><th>ProductID</th><th>ProductName</th><th>Category</th><th>Price</th><th>Stock</th></tr></thead><tbody><tr><td>1</td><td>Wireless Mouse</td><td>Electronics</td><td>25.99</td><td>100</td></tr><tr><td>2</td><td>Bluetooth Keyboard</td><td>Electronics</td><td>45.50</td><td>150</td></tr><tr><td>3</td><td>USB-C Cable</td><td>Electronics</td><td>10.00</td><td>500</td></tr><tr><td>4</td><td>Laptop Stand</td><td>Accessories</td><td>35.00</td><td>75</td></tr><tr><td>5</td><td>Noise Cancelling Headphones</td><td>Electronics</td><td>199.99</td><td>40</td></tr><tr><td>6</td><td>Smartphone Case</td><td>Accessories</td><td>15.00</td><td>200</td></tr><tr><td>7</td><td>LED Monitor 24 inch</td><td>Electronics</td><td>150.00</td><td>50</td></tr><tr><td>8</td><td>External Hard Drive 1TB</td><td>Electronics</td><td>70.00</td><td>80</td></tr><tr><td>9</td><td>Gaming Chair</td><td>Furniture</td><td>250.00</td><td>20</td></tr><tr><td>10</td><td>Desk Lamp</td><td>Furniture</td><td>30.00</td><td>60</td></tr><tr><td>11</td><td>Coffee Mug</td><td>Kitchen</td><td>8.99</td><td>300</td></tr><tr><td>12</td><td>Water Bottle</td><td>Kitchen</td><td>12.00</td><td>250</td></tr><tr><td>13</td><td>Yoga Mat</td><td>Fitness</td><td>20.00</td><td>100</td></tr><tr><td>14</td><td>Dumbbells Set</td><td>Fitness</td><td>80.00</td><td>35</td></tr><tr><td>15</td><td>Running Shoes</td><td>Fitness</td><td>120.00</td><td>60</td></tr><tr><td>16</td><td>T-shirt</td><td>Clothing</td><td>15.00</td><td>400</td></tr><tr><td>17</td><td>Jeans</td><td>Clothing</td><td>40.00</td><td>150</td></tr><tr><td>18</td><td>Jacket</td><td>Clothing</td><td>90.00</td><td>100</td></tr><tr><td>19</td><td>Backpack</td><td>Accessories</td><td>60.00</td><td>75</td></tr><tr><td>20</td><td>Sunglasses</td><td>Accessories</td><td>70.00</td><td>90</td></tr></tbody></table></div>"
      ]
     },
     "metadata": {
      "application/vnd.databricks.v1+output": {
       "addedWidgets": {},
       "aggData": [],
       "aggError": "",
       "aggOverflow": false,
       "aggSchema": [],
       "aggSeriesLimitReached": false,
       "aggType": "",
       "arguments": {},
       "columnCustomDisplayInfos": {},
       "data": [
        [
         1,
         "Wireless Mouse",
         "Electronics",
         "25.99",
         100
        ],
        [
         2,
         "Bluetooth Keyboard",
         "Electronics",
         "45.50",
         150
        ],
        [
         3,
         "USB-C Cable",
         "Electronics",
         "10.00",
         500
        ],
        [
         4,
         "Laptop Stand",
         "Accessories",
         "35.00",
         75
        ],
        [
         5,
         "Noise Cancelling Headphones",
         "Electronics",
         "199.99",
         40
        ],
        [
         6,
         "Smartphone Case",
         "Accessories",
         "15.00",
         200
        ],
        [
         7,
         "LED Monitor 24 inch",
         "Electronics",
         "150.00",
         50
        ],
        [
         8,
         "External Hard Drive 1TB",
         "Electronics",
         "70.00",
         80
        ],
        [
         9,
         "Gaming Chair",
         "Furniture",
         "250.00",
         20
        ],
        [
         10,
         "Desk Lamp",
         "Furniture",
         "30.00",
         60
        ],
        [
         11,
         "Coffee Mug",
         "Kitchen",
         "8.99",
         300
        ],
        [
         12,
         "Water Bottle",
         "Kitchen",
         "12.00",
         250
        ],
        [
         13,
         "Yoga Mat",
         "Fitness",
         "20.00",
         100
        ],
        [
         14,
         "Dumbbells Set",
         "Fitness",
         "80.00",
         35
        ],
        [
         15,
         "Running Shoes",
         "Fitness",
         "120.00",
         60
        ],
        [
         16,
         "T-shirt",
         "Clothing",
         "15.00",
         400
        ],
        [
         17,
         "Jeans",
         "Clothing",
         "40.00",
         150
        ],
        [
         18,
         "Jacket",
         "Clothing",
         "90.00",
         100
        ],
        [
         19,
         "Backpack",
         "Accessories",
         "60.00",
         75
        ],
        [
         20,
         "Sunglasses",
         "Accessories",
         "70.00",
         90
        ]
       ],
       "datasetInfos": [],
       "dbfsResultPath": null,
       "isJsonSchema": true,
       "metadata": {},
       "overflow": false,
       "plotOptions": {
        "customPlotOptions": {},
        "displayType": "table",
        "pivotAggregation": null,
        "pivotColumns": null,
        "xColumns": null,
        "yColumns": null
       },
       "removedWidgets": [],
       "schema": [
        {
         "metadata": "{}",
         "name": "ProductID",
         "type": "\"integer\""
        },
        {
         "metadata": "{}",
         "name": "ProductName",
         "type": "\"string\""
        },
        {
         "metadata": "{}",
         "name": "Category",
         "type": "\"string\""
        },
        {
         "metadata": "{}",
         "name": "Price",
         "type": "\"decimal(10,2)\""
        },
        {
         "metadata": "{}",
         "name": "Stock",
         "type": "\"integer\""
        }
       ],
       "type": "table"
      }
     },
     "output_type": "display_data"
    }
   ],
   "source": [
    "df_products = spark.read.parquet(\"/mnt/bronze/Products.parquet\")\n",
    "df_products.display()"
   ]
  },
  {
   "cell_type": "code",
   "execution_count": 0,
   "metadata": {
    "application/vnd.databricks.v1+cell": {
     "cellMetadata": {
      "byteLimit": 2048000,
      "rowLimit": 10000
     },
     "inputWidgets": {},
     "nuid": "17b5bddf-4d02-4333-b0f1-0eb6ffb4f9ae",
     "showTitle": false,
     "tableResultSettingsMap": {},
     "title": ""
    }
   },
   "outputs": [
    {
     "output_type": "execute_result",
     "data": {
      "text/plain": [
       "[FileInfo(path='dbfs:/mnt/bronze/Customers.parquet', name='Customers.parquet', size=1510, modificationTime=1749187244000),\n",
       " FileInfo(path='dbfs:/mnt/bronze/OrderItems.parquet', name='OrderItems.parquet', size=1631, modificationTime=1749187267000),\n",
       " FileInfo(path='dbfs:/mnt/bronze/Orders.parquet', name='Orders.parquet', size=1072, modificationTime=1749187288000),\n",
       " FileInfo(path='dbfs:/mnt/bronze/Products.parquet', name='Products.parquet', size=1742, modificationTime=1749187312000)]"
      ]
     },
     "execution_count": 10,
     "metadata": {},
     "output_type": "execute_result"
    }
   ],
   "source": [
    "dbutils.fs.ls(\"/mnt/bronze\")"
   ]
  }
 ],
 "metadata": {
  "application/vnd.databricks.v1+notebook": {
   "computePreferences": null,
   "dashboards": [],
   "environmentMetadata": {
    "base_environment": "",
    "environment_version": "2"
   },
   "inputWidgetPreferences": null,
   "language": "python",
   "notebookMetadata": {
    "mostRecentlyExecutedCommandWithImplicitDF": {
     "commandId": 5909215692785480,
     "dataframes": [
      "_sqldf"
     ]
    },
    "pythonIndentUnit": 4
   },
   "notebookName": "storagemoutn",
   "widgets": {}
  },
  "language_info": {
   "name": "python"
  }
 },
 "nbformat": 4,
 "nbformat_minor": 0
}